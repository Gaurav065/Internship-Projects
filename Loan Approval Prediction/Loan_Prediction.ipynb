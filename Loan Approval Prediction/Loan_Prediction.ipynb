{
  "cells": [
    {
      "cell_type": "markdown",
      "metadata": {
        "id": "Lopd1074AsWX"
      },
      "source": [
        "# Loading Dataset"
      ]
    },
    {
      "cell_type": "code",
      "execution_count": 1,
      "metadata": {
        "_cell_guid": "b1076dfc-b9ad-4769-8c92-a6c4dae69d19",
        "_uuid": "8f2839f25d086af736a60e9eeb907d3b93b6e0e5",
        "execution": {
          "iopub.execute_input": "2023-01-29T17:16:59.041754Z",
          "iopub.status.busy": "2023-01-29T17:16:59.041398Z",
          "iopub.status.idle": "2023-01-29T17:16:59.047197Z",
          "shell.execute_reply": "2023-01-29T17:16:59.045938Z",
          "shell.execute_reply.started": "2023-01-29T17:16:59.041724Z"
        },
        "id": "eMWuDs43AsWX",
        "trusted": true
      },
      "outputs": [],
      "source": [
        "import pandas as pd\n",
        "import numpy as np\n",
        "import seaborn as sns\n",
        "import matplotlib.pyplot as plt \n",
        "from sklearn.model_selection import train_test_split\n",
        "from sklearn.preprocessing import LabelEncoder\n",
        "from sklearn.model_selection import cross_val_score"
      ]
    },
    {
      "cell_type": "code",
      "execution_count": 2,
      "metadata": {
        "execution": {
          "iopub.execute_input": "2023-01-29T17:16:59.055172Z",
          "iopub.status.busy": "2023-01-29T17:16:59.054638Z",
          "iopub.status.idle": "2023-01-29T17:16:59.064825Z",
          "shell.execute_reply": "2023-01-29T17:16:59.063967Z",
          "shell.execute_reply.started": "2023-01-29T17:16:59.055145Z"
        },
        "id": "qndFBke2AsWY",
        "trusted": true
      },
      "outputs": [],
      "source": [
        "df=pd.read_csv('load_prediction.csv')"
      ]
    },
    {
      "cell_type": "code",
      "execution_count": 3,
      "metadata": {
        "colab": {
          "base_uri": "https://localhost:8080/",
          "height": 288
        },
        "execution": {
          "iopub.execute_input": "2023-01-29T17:16:59.073345Z",
          "iopub.status.busy": "2023-01-29T17:16:59.073093Z",
          "iopub.status.idle": "2023-01-29T17:16:59.090455Z",
          "shell.execute_reply": "2023-01-29T17:16:59.089055Z",
          "shell.execute_reply.started": "2023-01-29T17:16:59.073322Z"
        },
        "id": "akRM4xALAsWY",
        "outputId": "88777602-07be-4f7d-d1d0-c2054b2e90a2",
        "trusted": true
      },
      "outputs": [
        {
          "data": {
            "text/html": [
              "<div>\n",
              "<style scoped>\n",
              "    .dataframe tbody tr th:only-of-type {\n",
              "        vertical-align: middle;\n",
              "    }\n",
              "\n",
              "    .dataframe tbody tr th {\n",
              "        vertical-align: top;\n",
              "    }\n",
              "\n",
              "    .dataframe thead th {\n",
              "        text-align: right;\n",
              "    }\n",
              "</style>\n",
              "<table border=\"1\" class=\"dataframe\">\n",
              "  <thead>\n",
              "    <tr style=\"text-align: right;\">\n",
              "      <th></th>\n",
              "      <th>Loan_ID</th>\n",
              "      <th>Gender</th>\n",
              "      <th>Married</th>\n",
              "      <th>Dependents</th>\n",
              "      <th>Education</th>\n",
              "      <th>Self_Employed</th>\n",
              "      <th>ApplicantIncome</th>\n",
              "      <th>CoapplicantIncome</th>\n",
              "      <th>LoanAmount</th>\n",
              "      <th>Loan_Amount_Term</th>\n",
              "      <th>Credit_History</th>\n",
              "      <th>Property_Area</th>\n",
              "      <th>Loan_Status</th>\n",
              "    </tr>\n",
              "  </thead>\n",
              "  <tbody>\n",
              "    <tr>\n",
              "      <th>0</th>\n",
              "      <td>LP001002</td>\n",
              "      <td>Male</td>\n",
              "      <td>No</td>\n",
              "      <td>0</td>\n",
              "      <td>Graduate</td>\n",
              "      <td>No</td>\n",
              "      <td>5849</td>\n",
              "      <td>0.0</td>\n",
              "      <td>NaN</td>\n",
              "      <td>360.0</td>\n",
              "      <td>1.0</td>\n",
              "      <td>Urban</td>\n",
              "      <td>Y</td>\n",
              "    </tr>\n",
              "    <tr>\n",
              "      <th>1</th>\n",
              "      <td>LP001003</td>\n",
              "      <td>Male</td>\n",
              "      <td>Yes</td>\n",
              "      <td>1</td>\n",
              "      <td>Graduate</td>\n",
              "      <td>No</td>\n",
              "      <td>4583</td>\n",
              "      <td>1508.0</td>\n",
              "      <td>128.0</td>\n",
              "      <td>360.0</td>\n",
              "      <td>1.0</td>\n",
              "      <td>Rural</td>\n",
              "      <td>N</td>\n",
              "    </tr>\n",
              "    <tr>\n",
              "      <th>2</th>\n",
              "      <td>LP001005</td>\n",
              "      <td>Male</td>\n",
              "      <td>Yes</td>\n",
              "      <td>0</td>\n",
              "      <td>Graduate</td>\n",
              "      <td>Yes</td>\n",
              "      <td>3000</td>\n",
              "      <td>0.0</td>\n",
              "      <td>66.0</td>\n",
              "      <td>360.0</td>\n",
              "      <td>1.0</td>\n",
              "      <td>Urban</td>\n",
              "      <td>Y</td>\n",
              "    </tr>\n",
              "    <tr>\n",
              "      <th>3</th>\n",
              "      <td>LP001006</td>\n",
              "      <td>Male</td>\n",
              "      <td>Yes</td>\n",
              "      <td>0</td>\n",
              "      <td>Not Graduate</td>\n",
              "      <td>No</td>\n",
              "      <td>2583</td>\n",
              "      <td>2358.0</td>\n",
              "      <td>120.0</td>\n",
              "      <td>360.0</td>\n",
              "      <td>1.0</td>\n",
              "      <td>Urban</td>\n",
              "      <td>Y</td>\n",
              "    </tr>\n",
              "    <tr>\n",
              "      <th>4</th>\n",
              "      <td>LP001008</td>\n",
              "      <td>Male</td>\n",
              "      <td>No</td>\n",
              "      <td>0</td>\n",
              "      <td>Graduate</td>\n",
              "      <td>No</td>\n",
              "      <td>6000</td>\n",
              "      <td>0.0</td>\n",
              "      <td>141.0</td>\n",
              "      <td>360.0</td>\n",
              "      <td>1.0</td>\n",
              "      <td>Urban</td>\n",
              "      <td>Y</td>\n",
              "    </tr>\n",
              "  </tbody>\n",
              "</table>\n",
              "</div>"
            ],
            "text/plain": [
              "    Loan_ID Gender Married Dependents     Education Self_Employed  \\\n",
              "0  LP001002   Male      No          0      Graduate            No   \n",
              "1  LP001003   Male     Yes          1      Graduate            No   \n",
              "2  LP001005   Male     Yes          0      Graduate           Yes   \n",
              "3  LP001006   Male     Yes          0  Not Graduate            No   \n",
              "4  LP001008   Male      No          0      Graduate            No   \n",
              "\n",
              "   ApplicantIncome  CoapplicantIncome  LoanAmount  Loan_Amount_Term  \\\n",
              "0             5849                0.0         NaN             360.0   \n",
              "1             4583             1508.0       128.0             360.0   \n",
              "2             3000                0.0        66.0             360.0   \n",
              "3             2583             2358.0       120.0             360.0   \n",
              "4             6000                0.0       141.0             360.0   \n",
              "\n",
              "   Credit_History Property_Area Loan_Status  \n",
              "0             1.0         Urban           Y  \n",
              "1             1.0         Rural           N  \n",
              "2             1.0         Urban           Y  \n",
              "3             1.0         Urban           Y  \n",
              "4             1.0         Urban           Y  "
            ]
          },
          "execution_count": 3,
          "metadata": {},
          "output_type": "execute_result"
        }
      ],
      "source": [
        "df.head()"
      ]
    },
    {
      "cell_type": "code",
      "execution_count": 4,
      "metadata": {
        "colab": {
          "base_uri": "https://localhost:8080/",
          "height": 288
        },
        "execution": {
          "iopub.execute_input": "2023-01-29T17:16:59.097792Z",
          "iopub.status.busy": "2023-01-29T17:16:59.097499Z",
          "iopub.status.idle": "2023-01-29T17:16:59.11562Z",
          "shell.execute_reply": "2023-01-29T17:16:59.114572Z",
          "shell.execute_reply.started": "2023-01-29T17:16:59.097766Z"
        },
        "id": "wTQ5iq4CAsWY",
        "outputId": "c04cf9db-38b7-4374-deeb-eef8f3357e6d",
        "trusted": true
      },
      "outputs": [
        {
          "data": {
            "text/html": [
              "<div>\n",
              "<style scoped>\n",
              "    .dataframe tbody tr th:only-of-type {\n",
              "        vertical-align: middle;\n",
              "    }\n",
              "\n",
              "    .dataframe tbody tr th {\n",
              "        vertical-align: top;\n",
              "    }\n",
              "\n",
              "    .dataframe thead th {\n",
              "        text-align: right;\n",
              "    }\n",
              "</style>\n",
              "<table border=\"1\" class=\"dataframe\">\n",
              "  <thead>\n",
              "    <tr style=\"text-align: right;\">\n",
              "      <th></th>\n",
              "      <th>Gender</th>\n",
              "      <th>Married</th>\n",
              "      <th>Dependents</th>\n",
              "      <th>Education</th>\n",
              "      <th>Self_Employed</th>\n",
              "      <th>ApplicantIncome</th>\n",
              "      <th>CoapplicantIncome</th>\n",
              "      <th>LoanAmount</th>\n",
              "      <th>Loan_Amount_Term</th>\n",
              "      <th>Credit_History</th>\n",
              "      <th>Property_Area</th>\n",
              "      <th>Loan_Status</th>\n",
              "    </tr>\n",
              "  </thead>\n",
              "  <tbody>\n",
              "    <tr>\n",
              "      <th>0</th>\n",
              "      <td>Male</td>\n",
              "      <td>No</td>\n",
              "      <td>0</td>\n",
              "      <td>Graduate</td>\n",
              "      <td>No</td>\n",
              "      <td>5849</td>\n",
              "      <td>0.0</td>\n",
              "      <td>NaN</td>\n",
              "      <td>360.0</td>\n",
              "      <td>1.0</td>\n",
              "      <td>Urban</td>\n",
              "      <td>Y</td>\n",
              "    </tr>\n",
              "    <tr>\n",
              "      <th>1</th>\n",
              "      <td>Male</td>\n",
              "      <td>Yes</td>\n",
              "      <td>1</td>\n",
              "      <td>Graduate</td>\n",
              "      <td>No</td>\n",
              "      <td>4583</td>\n",
              "      <td>1508.0</td>\n",
              "      <td>128.0</td>\n",
              "      <td>360.0</td>\n",
              "      <td>1.0</td>\n",
              "      <td>Rural</td>\n",
              "      <td>N</td>\n",
              "    </tr>\n",
              "    <tr>\n",
              "      <th>2</th>\n",
              "      <td>Male</td>\n",
              "      <td>Yes</td>\n",
              "      <td>0</td>\n",
              "      <td>Graduate</td>\n",
              "      <td>Yes</td>\n",
              "      <td>3000</td>\n",
              "      <td>0.0</td>\n",
              "      <td>66.0</td>\n",
              "      <td>360.0</td>\n",
              "      <td>1.0</td>\n",
              "      <td>Urban</td>\n",
              "      <td>Y</td>\n",
              "    </tr>\n",
              "    <tr>\n",
              "      <th>3</th>\n",
              "      <td>Male</td>\n",
              "      <td>Yes</td>\n",
              "      <td>0</td>\n",
              "      <td>Not Graduate</td>\n",
              "      <td>No</td>\n",
              "      <td>2583</td>\n",
              "      <td>2358.0</td>\n",
              "      <td>120.0</td>\n",
              "      <td>360.0</td>\n",
              "      <td>1.0</td>\n",
              "      <td>Urban</td>\n",
              "      <td>Y</td>\n",
              "    </tr>\n",
              "    <tr>\n",
              "      <th>4</th>\n",
              "      <td>Male</td>\n",
              "      <td>No</td>\n",
              "      <td>0</td>\n",
              "      <td>Graduate</td>\n",
              "      <td>No</td>\n",
              "      <td>6000</td>\n",
              "      <td>0.0</td>\n",
              "      <td>141.0</td>\n",
              "      <td>360.0</td>\n",
              "      <td>1.0</td>\n",
              "      <td>Urban</td>\n",
              "      <td>Y</td>\n",
              "    </tr>\n",
              "  </tbody>\n",
              "</table>\n",
              "</div>"
            ],
            "text/plain": [
              "  Gender Married Dependents     Education Self_Employed  ApplicantIncome  \\\n",
              "0   Male      No          0      Graduate            No             5849   \n",
              "1   Male     Yes          1      Graduate            No             4583   \n",
              "2   Male     Yes          0      Graduate           Yes             3000   \n",
              "3   Male     Yes          0  Not Graduate            No             2583   \n",
              "4   Male      No          0      Graduate            No             6000   \n",
              "\n",
              "   CoapplicantIncome  LoanAmount  Loan_Amount_Term  Credit_History  \\\n",
              "0                0.0         NaN             360.0             1.0   \n",
              "1             1508.0       128.0             360.0             1.0   \n",
              "2                0.0        66.0             360.0             1.0   \n",
              "3             2358.0       120.0             360.0             1.0   \n",
              "4                0.0       141.0             360.0             1.0   \n",
              "\n",
              "  Property_Area Loan_Status  \n",
              "0         Urban           Y  \n",
              "1         Rural           N  \n",
              "2         Urban           Y  \n",
              "3         Urban           Y  \n",
              "4         Urban           Y  "
            ]
          },
          "execution_count": 4,
          "metadata": {},
          "output_type": "execute_result"
        }
      ],
      "source": [
        "df=df.drop(columns=['Loan_ID'])\n",
        "df.head()"
      ]
    },
    {
      "cell_type": "code",
      "execution_count": 5,
      "metadata": {
        "colab": {
          "base_uri": "https://localhost:8080/"
        },
        "execution": {
          "iopub.execute_input": "2023-01-29T17:16:59.117866Z",
          "iopub.status.busy": "2023-01-29T17:16:59.117295Z",
          "iopub.status.idle": "2023-01-29T17:16:59.134495Z",
          "shell.execute_reply": "2023-01-29T17:16:59.133447Z",
          "shell.execute_reply.started": "2023-01-29T17:16:59.117832Z"
        },
        "id": "RfxEuozlAsWY",
        "outputId": "3327db85-2605-4729-92c1-468ce7bdb82f",
        "trusted": true
      },
      "outputs": [
        {
          "name": "stdout",
          "output_type": "stream",
          "text": [
            "<class 'pandas.core.frame.DataFrame'>\n",
            "RangeIndex: 614 entries, 0 to 613\n",
            "Data columns (total 12 columns):\n",
            " #   Column             Non-Null Count  Dtype  \n",
            "---  ------             --------------  -----  \n",
            " 0   Gender             601 non-null    object \n",
            " 1   Married            611 non-null    object \n",
            " 2   Dependents         599 non-null    object \n",
            " 3   Education          614 non-null    object \n",
            " 4   Self_Employed      582 non-null    object \n",
            " 5   ApplicantIncome    614 non-null    int64  \n",
            " 6   CoapplicantIncome  614 non-null    float64\n",
            " 7   LoanAmount         592 non-null    float64\n",
            " 8   Loan_Amount_Term   600 non-null    float64\n",
            " 9   Credit_History     564 non-null    float64\n",
            " 10  Property_Area      614 non-null    object \n",
            " 11  Loan_Status        614 non-null    object \n",
            "dtypes: float64(4), int64(1), object(7)\n",
            "memory usage: 57.7+ KB\n"
          ]
        }
      ],
      "source": [
        "df.info()"
      ]
    },
    {
      "cell_type": "markdown",
      "metadata": {
        "id": "Li8cBOXXAsWZ"
      },
      "source": [
        "# Preprocessing the dataset"
      ]
    },
    {
      "cell_type": "code",
      "execution_count": 6,
      "metadata": {
        "colab": {
          "base_uri": "https://localhost:8080/"
        },
        "execution": {
          "iopub.execute_input": "2023-01-29T17:16:59.13656Z",
          "iopub.status.busy": "2023-01-29T17:16:59.136088Z",
          "iopub.status.idle": "2023-01-29T17:16:59.14547Z",
          "shell.execute_reply": "2023-01-29T17:16:59.144367Z",
          "shell.execute_reply.started": "2023-01-29T17:16:59.136525Z"
        },
        "id": "lJGObgyDAsWZ",
        "outputId": "76231d71-bc80-47dd-9ab3-9997fdf79024",
        "trusted": true
      },
      "outputs": [
        {
          "data": {
            "text/plain": [
              "Gender               13\n",
              "Married               3\n",
              "Dependents           15\n",
              "Education             0\n",
              "Self_Employed        32\n",
              "ApplicantIncome       0\n",
              "CoapplicantIncome     0\n",
              "LoanAmount           22\n",
              "Loan_Amount_Term     14\n",
              "Credit_History       50\n",
              "Property_Area         0\n",
              "Loan_Status           0\n",
              "dtype: int64"
            ]
          },
          "execution_count": 6,
          "metadata": {},
          "output_type": "execute_result"
        }
      ],
      "source": [
        "df.isnull().sum()"
      ]
    },
    {
      "cell_type": "code",
      "execution_count": 7,
      "metadata": {
        "colab": {
          "base_uri": "https://localhost:8080/"
        },
        "execution": {
          "iopub.execute_input": "2023-01-29T17:16:59.148216Z",
          "iopub.status.busy": "2023-01-29T17:16:59.147258Z",
          "iopub.status.idle": "2023-01-29T17:16:59.160043Z",
          "shell.execute_reply": "2023-01-29T17:16:59.158324Z",
          "shell.execute_reply.started": "2023-01-29T17:16:59.148109Z"
        },
        "id": "6n_CaFByAsWZ",
        "outputId": "b7be4463-56c7-4710-f142-1502a1da466d",
        "trusted": true
      },
      "outputs": [
        {
          "data": {
            "text/plain": [
              "0    Male\n",
              "dtype: object"
            ]
          },
          "execution_count": 7,
          "metadata": {},
          "output_type": "execute_result"
        }
      ],
      "source": [
        "df['Gender'].mode()"
      ]
    },
    {
      "cell_type": "code",
      "execution_count": 8,
      "metadata": {
        "execution": {
          "iopub.execute_input": "2023-01-29T17:16:59.162525Z",
          "iopub.status.busy": "2023-01-29T17:16:59.161949Z",
          "iopub.status.idle": "2023-01-29T17:16:59.173679Z",
          "shell.execute_reply": "2023-01-29T17:16:59.17296Z",
          "shell.execute_reply.started": "2023-01-29T17:16:59.16249Z"
        },
        "id": "MpSw6xDtAsWZ",
        "trusted": true
      },
      "outputs": [],
      "source": [
        "#fill nulls for categorical attributes\n",
        "df['Gender']=df['Gender'].fillna(df['Gender'].mode()[0])\n",
        "df['Married']=df['Married'].fillna(df['Married'].mode()[0])\n",
        "df['Dependents']=df['Dependents'].fillna(df['Dependents'].mode()[0])\n",
        "df['Self_Employed']=df['Self_Employed'].fillna(df['Self_Employed'].mode()[0])"
      ]
    },
    {
      "cell_type": "code",
      "execution_count": 9,
      "metadata": {
        "execution": {
          "iopub.execute_input": "2023-01-29T17:16:59.175903Z",
          "iopub.status.busy": "2023-01-29T17:16:59.175309Z",
          "iopub.status.idle": "2023-01-29T17:16:59.185099Z",
          "shell.execute_reply": "2023-01-29T17:16:59.184124Z",
          "shell.execute_reply.started": "2023-01-29T17:16:59.175868Z"
        },
        "id": "JLV6Z3S4AsWZ",
        "trusted": true
      },
      "outputs": [],
      "source": [
        "#fill nulls for numerical attributes\n",
        "df['LoanAmount']=df['LoanAmount'].fillna(df['LoanAmount'].mean())\n",
        "df['Loan_Amount_Term']=df['Loan_Amount_Term'].fillna(df['Loan_Amount_Term'].mean())\n",
        "df['Credit_History']=df['Credit_History'].fillna(df['Credit_History'].mean())"
      ]
    },
    {
      "cell_type": "code",
      "execution_count": 10,
      "metadata": {
        "colab": {
          "base_uri": "https://localhost:8080/"
        },
        "execution": {
          "iopub.execute_input": "2023-01-29T17:16:59.187708Z",
          "iopub.status.busy": "2023-01-29T17:16:59.18706Z",
          "iopub.status.idle": "2023-01-29T17:16:59.198334Z",
          "shell.execute_reply": "2023-01-29T17:16:59.197328Z",
          "shell.execute_reply.started": "2023-01-29T17:16:59.187671Z"
        },
        "id": "ipweUiKbAsWZ",
        "outputId": "882fc97a-c0f0-4ce2-b749-7ca8d96eb6cc",
        "trusted": true
      },
      "outputs": [
        {
          "data": {
            "text/plain": [
              "Gender               0\n",
              "Married              0\n",
              "Dependents           0\n",
              "Education            0\n",
              "Self_Employed        0\n",
              "ApplicantIncome      0\n",
              "CoapplicantIncome    0\n",
              "LoanAmount           0\n",
              "Loan_Amount_Term     0\n",
              "Credit_History       0\n",
              "Property_Area        0\n",
              "Loan_Status          0\n",
              "dtype: int64"
            ]
          },
          "execution_count": 10,
          "metadata": {},
          "output_type": "execute_result"
        }
      ],
      "source": [
        "df.isnull().sum()"
      ]
    },
    {
      "cell_type": "code",
      "execution_count": 11,
      "metadata": {
        "id": "gIU-soVyKrZ_"
      },
      "outputs": [],
      "source": [
        "# from google.colab import files\n",
        "# df.to_csv('loan_training.csv') "
      ]
    },
    {
      "cell_type": "markdown",
      "metadata": {
        "id": "DxFiW6xcAsWZ"
      },
      "source": [
        "# Exploratory Data Analysis"
      ]
    },
    {
      "cell_type": "code",
      "execution_count": 12,
      "metadata": {
        "colab": {
          "base_uri": "https://localhost:8080/",
          "height": 353
        },
        "execution": {
          "iopub.execute_input": "2023-01-29T17:16:59.200666Z",
          "iopub.status.busy": "2023-01-29T17:16:59.200035Z",
          "iopub.status.idle": "2023-01-29T17:16:59.470349Z",
          "shell.execute_reply": "2023-01-29T17:16:59.468785Z",
          "shell.execute_reply.started": "2023-01-29T17:16:59.200629Z"
        },
        "id": "MTvK5OqTAsWZ",
        "outputId": "7a4d4af8-3287-4c47-9a43-5275cbc8dc2b",
        "trusted": true
      },
      "outputs": [
        {
          "name": "stderr",
          "output_type": "stream",
          "text": [
            "/tmp/ipykernel_104236/1805243942.py:2: UserWarning: \n",
            "\n",
            "`distplot` is a deprecated function and will be removed in seaborn v0.14.0.\n",
            "\n",
            "Please adapt your code to use either `displot` (a figure-level function with\n",
            "similar flexibility) or `histplot` (an axes-level function for histograms).\n",
            "\n",
            "For a guide to updating your code to use the new functions, please see\n",
            "https://gist.github.com/mwaskom/de44147ed2974457ad6372750bbe5751\n",
            "\n",
            "  sns.distplot(df['ApplicantIncome'])\n"
          ]
        },
        {
          "data": {
            "text/plain": [
              "<AxesSubplot:xlabel='ApplicantIncome', ylabel='Density'>"
            ]
          },
          "execution_count": 12,
          "metadata": {},
          "output_type": "execute_result"
        },
        {
          "data": {
            "image/png": "[encoded data removed]",
            "text/plain": [
              "<Figure size 640x480 with 1 Axes>"
            ]
          },
          "metadata": {},
          "output_type": "display_data"
        }
      ],
      "source": [
        "#visualize numerical attributes\n",
        "sns.distplot(df['ApplicantIncome'])"
      ]
    },
    {
      "cell_type": "code",
      "execution_count": 13,
      "metadata": {
        "colab": {
          "base_uri": "https://localhost:8080/",
          "height": 353
        },
        "execution": {
          "iopub.execute_input": "2023-01-29T17:16:59.473649Z",
          "iopub.status.busy": "2023-01-29T17:16:59.473379Z",
          "iopub.status.idle": "2023-01-29T17:16:59.762895Z",
          "shell.execute_reply": "2023-01-29T17:16:59.761231Z",
          "shell.execute_reply.started": "2023-01-29T17:16:59.473623Z"
        },
        "id": "KoQ8FmkHAsWZ",
        "outputId": "96dfaa9b-03fa-4ce9-ffb3-09842b8d717b",
        "trusted": true
      },
      "outputs": [
        {
          "name": "stderr",
          "output_type": "stream",
          "text": [
            "/tmp/ipykernel_104236/2149142820.py:1: UserWarning: \n",
            "\n",
            "`distplot` is a deprecated function and will be removed in seaborn v0.14.0.\n",
            "\n",
            "Please adapt your code to use either `displot` (a figure-level function with\n",
            "similar flexibility) or `histplot` (an axes-level function for histograms).\n",
            "\n",
            "For a guide to updating your code to use the new functions, please see\n",
            "https://gist.github.com/mwaskom/de44147ed2974457ad6372750bbe5751\n",
            "\n",
            "  sns.distplot(df['CoapplicantIncome'])\n"
          ]
        },
        {
          "data": {
            "text/plain": [
              "<AxesSubplot:xlabel='CoapplicantIncome', ylabel='Density'>"
            ]
          },
          "execution_count": 13,
          "metadata": {},
          "output_type": "execute_result"
        },
        {
          "data": {
            "image/png": "[encoded data removed]",
            "text/plain": [
              "<Figure size 640x480 with 1 Axes>"
            ]
          },
          "metadata": {},
          "output_type": "display_data"
        }
      ],
      "source": [
        "sns.distplot(df['CoapplicantIncome'])"
      ]
    },
    {
      "cell_type": "code",
      "execution_count": 14,
      "metadata": {
        "colab": {
          "base_uri": "https://localhost:8080/",
          "height": 357
        },
        "execution": {
          "iopub.execute_input": "2023-01-29T17:16:59.764609Z",
          "iopub.status.busy": "2023-01-29T17:16:59.764309Z",
          "iopub.status.idle": "2023-01-29T17:17:00.031033Z",
          "shell.execute_reply": "2023-01-29T17:17:00.030257Z",
          "shell.execute_reply.started": "2023-01-29T17:16:59.764584Z"
        },
        "id": "iunVX88BAsWZ",
        "outputId": "bde254ae-7788-46ef-a14c-9911def9ef9b",
        "trusted": true
      },
      "outputs": [
        {
          "name": "stderr",
          "output_type": "stream",
          "text": [
            "/tmp/ipykernel_104236/413488336.py:1: UserWarning: \n",
            "\n",
            "`distplot` is a deprecated function and will be removed in seaborn v0.14.0.\n",
            "\n",
            "Please adapt your code to use either `displot` (a figure-level function with\n",
            "similar flexibility) or `histplot` (an axes-level function for histograms).\n",
            "\n",
            "For a guide to updating your code to use the new functions, please see\n",
            "https://gist.github.com/mwaskom/de44147ed2974457ad6372750bbe5751\n",
            "\n",
            "  sns.distplot(df['LoanAmount'])\n"
          ]
        },
        {
          "data": {
            "text/plain": [
              "<AxesSubplot:xlabel='LoanAmount', ylabel='Density'>"
            ]
          },
          "execution_count": 14,
          "metadata": {},
          "output_type": "execute_result"
        },
        {
          "data": {
            "image/png": "[encoded data removed]",
            "text/plain": [
              "<Figure size 640x480 with 1 Axes>"
            ]
          },
          "metadata": {},
          "output_type": "display_data"
        }
      ],
      "source": [
        "sns.distplot(df['LoanAmount'])"
      ]
    },
    {
      "cell_type": "code",
      "execution_count": 15,
      "metadata": {
        "colab": {
          "base_uri": "https://localhost:8080/",
          "height": 354
        },
        "execution": {
          "iopub.execute_input": "2023-01-29T17:17:00.033928Z",
          "iopub.status.busy": "2023-01-29T17:17:00.033589Z",
          "iopub.status.idle": "2023-01-29T17:17:00.278397Z",
          "shell.execute_reply": "2023-01-29T17:17:00.277522Z",
          "shell.execute_reply.started": "2023-01-29T17:17:00.033891Z"
        },
        "id": "VtLUnK-PAsWZ",
        "outputId": "dc8a925b-51b8-4c48-910a-0c4bafc8d4d2",
        "trusted": true
      },
      "outputs": [
        {
          "name": "stderr",
          "output_type": "stream",
          "text": [
            "/tmp/ipykernel_104236/710718432.py:1: UserWarning: \n",
            "\n",
            "`distplot` is a deprecated function and will be removed in seaborn v0.14.0.\n",
            "\n",
            "Please adapt your code to use either `displot` (a figure-level function with\n",
            "similar flexibility) or `histplot` (an axes-level function for histograms).\n",
            "\n",
            "For a guide to updating your code to use the new functions, please see\n",
            "https://gist.github.com/mwaskom/de44147ed2974457ad6372750bbe5751\n",
            "\n",
            "  sns.distplot(df['Loan_Amount_Term'])\n"
          ]
        },
        {
          "data": {
            "text/plain": [
              "<AxesSubplot:xlabel='Loan_Amount_Term', ylabel='Density'>"
            ]
          },
          "execution_count": 15,
          "metadata": {},
          "output_type": "execute_result"
        },
        {
          "data": {
            "image/png": "[encoded data removed]",
            "text/plain": [
              "<Figure size 640x480 with 1 Axes>"
            ]
          },
          "metadata": {},
          "output_type": "display_data"
        }
      ],
      "source": [
        "sns.distplot(df['Loan_Amount_Term'])"
      ]
    },
    {
      "cell_type": "code",
      "execution_count": 16,
      "metadata": {
        "colab": {
          "base_uri": "https://localhost:8080/",
          "height": 354
        },
        "execution": {
          "iopub.execute_input": "2023-01-29T17:17:00.280214Z",
          "iopub.status.busy": "2023-01-29T17:17:00.279869Z",
          "iopub.status.idle": "2023-01-29T17:17:00.529718Z",
          "shell.execute_reply": "2023-01-29T17:17:00.528918Z",
          "shell.execute_reply.started": "2023-01-29T17:17:00.280179Z"
        },
        "id": "2aIpg26QAsWa",
        "outputId": "82700844-7ccc-4fe4-c318-58564473887a",
        "trusted": true
      },
      "outputs": [
        {
          "name": "stderr",
          "output_type": "stream",
          "text": [
            "/tmp/ipykernel_104236/4144326787.py:1: UserWarning: \n",
            "\n",
            "`distplot` is a deprecated function and will be removed in seaborn v0.14.0.\n",
            "\n",
            "Please adapt your code to use either `displot` (a figure-level function with\n",
            "similar flexibility) or `histplot` (an axes-level function for histograms).\n",
            "\n",
            "For a guide to updating your code to use the new functions, please see\n",
            "https://gist.github.com/mwaskom/de44147ed2974457ad6372750bbe5751\n",
            "\n",
            "  sns.distplot(df['Credit_History'])\n"
          ]
        },
        {
          "data": {
            "text/plain": [
              "<AxesSubplot:xlabel='Credit_History', ylabel='Density'>"
            ]
          },
          "execution_count": 16,
          "metadata": {},
          "output_type": "execute_result"
        },
        {
          "data": {
            "image/png": "[encoded data removed]",
            "text/plain": [
              "<Figure size 640x480 with 1 Axes>"
            ]
          },
          "metadata": {},
          "output_type": "display_data"
        }
      ],
      "source": [
        "sns.distplot(df['Credit_History'])"
      ]
    },
    {
      "cell_type": "code",
      "execution_count": 17,
      "metadata": {
        "colab": {
          "base_uri": "https://localhost:8080/",
          "height": 354
        },
        "execution": {
          "iopub.execute_input": "2023-01-29T17:17:00.531564Z",
          "iopub.status.busy": "2023-01-29T17:17:00.53123Z",
          "iopub.status.idle": "2023-01-29T17:17:00.705228Z",
          "shell.execute_reply": "2023-01-29T17:17:00.704251Z",
          "shell.execute_reply.started": "2023-01-29T17:17:00.53153Z"
        },
        "id": "rUotBpy8AsWa",
        "outputId": "13ced00f-c75b-4d4a-8f7b-6fedbbf812a5",
        "trusted": true
      },
      "outputs": [
        {
          "ename": "ValueError",
          "evalue": "could not convert string to float: 'Urban'",
          "output_type": "error",
          "traceback": [
            "\u001b[0;31m---------------------------------------------------------------------------\u001b[0m",
            "\u001b[0;31mValueError\u001b[0m                                Traceback (most recent call last)",
            "\u001b[1;32m/home/silver/Coding/Internship Projects/Loan Approval Prediction/Loan_Prediction.ipynb Cell 20\u001b[0m in \u001b[0;36m2\n\u001b[1;32m      <a href='vscode-notebook-cell:/home/silver/Coding/Internship%20Projects/Loan%20Approval%20Prediction/Loan_Prediction.ipynb#X25sZmlsZQ%3D%3D?line=0'>1</a>\u001b[0m \u001b[39m#visualize categorical data\u001b[39;00m\n\u001b[0;32m----> <a href='vscode-notebook-cell:/home/silver/Coding/Internship%20Projects/Loan%20Approval%20Prediction/Loan_Prediction.ipynb#X25sZmlsZQ%3D%3D?line=1'>2</a>\u001b[0m sns\u001b[39m.\u001b[39;49mcountplot(df[\u001b[39m'\u001b[39;49m\u001b[39mProperty_Area\u001b[39;49m\u001b[39m'\u001b[39;49m])\n",
            "File \u001b[0;32m~/.local/lib/python3.10/site-packages/seaborn/categorical.py:2942\u001b[0m, in \u001b[0;36mcountplot\u001b[0;34m(data, x, y, hue, order, hue_order, orient, color, palette, saturation, width, dodge, ax, **kwargs)\u001b[0m\n\u001b[1;32m   2939\u001b[0m \u001b[39melif\u001b[39;00m x \u001b[39mis\u001b[39;00m \u001b[39mnot\u001b[39;00m \u001b[39mNone\u001b[39;00m \u001b[39mand\u001b[39;00m y \u001b[39mis\u001b[39;00m \u001b[39mnot\u001b[39;00m \u001b[39mNone\u001b[39;00m:\n\u001b[1;32m   2940\u001b[0m     \u001b[39mraise\u001b[39;00m \u001b[39mValueError\u001b[39;00m(\u001b[39m\"\u001b[39m\u001b[39mCannot pass values for both `x` and `y`\u001b[39m\u001b[39m\"\u001b[39m)\n\u001b[0;32m-> 2942\u001b[0m plotter \u001b[39m=\u001b[39m _CountPlotter(\n\u001b[1;32m   2943\u001b[0m     x, y, hue, data, order, hue_order,\n\u001b[1;32m   2944\u001b[0m     estimator, errorbar, n_boot, units, seed,\n\u001b[1;32m   2945\u001b[0m     orient, color, palette, saturation,\n\u001b[1;32m   2946\u001b[0m     width, errcolor, errwidth, capsize, dodge\n\u001b[1;32m   2947\u001b[0m )\n\u001b[1;32m   2949\u001b[0m plotter\u001b[39m.\u001b[39mvalue_label \u001b[39m=\u001b[39m \u001b[39m\"\u001b[39m\u001b[39mcount\u001b[39m\u001b[39m\"\u001b[39m\n\u001b[1;32m   2951\u001b[0m \u001b[39mif\u001b[39;00m ax \u001b[39mis\u001b[39;00m \u001b[39mNone\u001b[39;00m:\n",
            "File \u001b[0;32m~/.local/lib/python3.10/site-packages/seaborn/categorical.py:1530\u001b[0m, in \u001b[0;36m_BarPlotter.__init__\u001b[0;34m(self, x, y, hue, data, order, hue_order, estimator, errorbar, n_boot, units, seed, orient, color, palette, saturation, width, errcolor, errwidth, capsize, dodge)\u001b[0m\n\u001b[1;32m   1525\u001b[0m \u001b[39mdef\u001b[39;00m \u001b[39m__init__\u001b[39m(\u001b[39mself\u001b[39m, x, y, hue, data, order, hue_order,\n\u001b[1;32m   1526\u001b[0m              estimator, errorbar, n_boot, units, seed,\n\u001b[1;32m   1527\u001b[0m              orient, color, palette, saturation, width,\n\u001b[1;32m   1528\u001b[0m              errcolor, errwidth, capsize, dodge):\n\u001b[1;32m   1529\u001b[0m     \u001b[39m\"\"\"Initialize the plotter.\"\"\"\u001b[39;00m\n\u001b[0;32m-> 1530\u001b[0m     \u001b[39mself\u001b[39;49m\u001b[39m.\u001b[39;49mestablish_variables(x, y, hue, data, orient,\n\u001b[1;32m   1531\u001b[0m                              order, hue_order, units)\n\u001b[1;32m   1532\u001b[0m     \u001b[39mself\u001b[39m\u001b[39m.\u001b[39mestablish_colors(color, palette, saturation)\n\u001b[1;32m   1533\u001b[0m     \u001b[39mself\u001b[39m\u001b[39m.\u001b[39mestimate_statistic(estimator, errorbar, n_boot, seed)\n",
            "File \u001b[0;32m~/.local/lib/python3.10/site-packages/seaborn/categorical.py:516\u001b[0m, in \u001b[0;36m_CategoricalPlotter.establish_variables\u001b[0;34m(self, x, y, hue, data, orient, order, hue_order, units)\u001b[0m\n\u001b[1;32m    513\u001b[0m     plot_data \u001b[39m=\u001b[39m data\n\u001b[1;32m    515\u001b[0m \u001b[39m# Convert to a list of arrays, the common representation\u001b[39;00m\n\u001b[0;32m--> 516\u001b[0m plot_data \u001b[39m=\u001b[39m [np\u001b[39m.\u001b[39masarray(d, \u001b[39mfloat\u001b[39m) \u001b[39mfor\u001b[39;00m d \u001b[39min\u001b[39;00m plot_data]\n\u001b[1;32m    518\u001b[0m \u001b[39m# The group names will just be numeric indices\u001b[39;00m\n\u001b[1;32m    519\u001b[0m group_names \u001b[39m=\u001b[39m \u001b[39mlist\u001b[39m(\u001b[39mrange\u001b[39m(\u001b[39mlen\u001b[39m(plot_data)))\n",
            "File \u001b[0;32m~/.local/lib/python3.10/site-packages/seaborn/categorical.py:516\u001b[0m, in \u001b[0;36m<listcomp>\u001b[0;34m(.0)\u001b[0m\n\u001b[1;32m    513\u001b[0m     plot_data \u001b[39m=\u001b[39m data\n\u001b[1;32m    515\u001b[0m \u001b[39m# Convert to a list of arrays, the common representation\u001b[39;00m\n\u001b[0;32m--> 516\u001b[0m plot_data \u001b[39m=\u001b[39m [np\u001b[39m.\u001b[39;49masarray(d, \u001b[39mfloat\u001b[39;49m) \u001b[39mfor\u001b[39;00m d \u001b[39min\u001b[39;00m plot_data]\n\u001b[1;32m    518\u001b[0m \u001b[39m# The group names will just be numeric indices\u001b[39;00m\n\u001b[1;32m    519\u001b[0m group_names \u001b[39m=\u001b[39m \u001b[39mlist\u001b[39m(\u001b[39mrange\u001b[39m(\u001b[39mlen\u001b[39m(plot_data)))\n",
            "File \u001b[0;32m~/.local/lib/python3.10/site-packages/pandas/core/series.py:857\u001b[0m, in \u001b[0;36mSeries.__array__\u001b[0;34m(self, dtype)\u001b[0m\n\u001b[1;32m    810\u001b[0m \u001b[39mdef\u001b[39;00m \u001b[39m__array__\u001b[39m(\u001b[39mself\u001b[39m, dtype: NpDtype \u001b[39m|\u001b[39m \u001b[39mNone\u001b[39;00m \u001b[39m=\u001b[39m \u001b[39mNone\u001b[39;00m) \u001b[39m-\u001b[39m\u001b[39m>\u001b[39m np\u001b[39m.\u001b[39mndarray:\n\u001b[1;32m    811\u001b[0m     \u001b[39m\"\"\"\u001b[39;00m\n\u001b[1;32m    812\u001b[0m \u001b[39m    Return the values as a NumPy array.\u001b[39;00m\n\u001b[1;32m    813\u001b[0m \n\u001b[0;32m   (...)\u001b[0m\n\u001b[1;32m    855\u001b[0m \u001b[39m          dtype='datetime64[ns]')\u001b[39;00m\n\u001b[1;32m    856\u001b[0m \u001b[39m    \"\"\"\u001b[39;00m\n\u001b[0;32m--> 857\u001b[0m     \u001b[39mreturn\u001b[39;00m np\u001b[39m.\u001b[39;49masarray(\u001b[39mself\u001b[39;49m\u001b[39m.\u001b[39;49m_values, dtype)\n",
            "\u001b[0;31mValueError\u001b[0m: could not convert string to float: 'Urban'"
          ]
        }
      ],
      "source": [
        "#visualize categorical data\n",
        "sns.countplot(df['Property_Area'])"
      ]
    },
    {
      "cell_type": "code",
      "execution_count": null,
      "metadata": {
        "colab": {
          "base_uri": "https://localhost:8080/",
          "height": 354
        },
        "execution": {
          "iopub.execute_input": "2023-01-29T17:17:00.706933Z",
          "iopub.status.busy": "2023-01-29T17:17:00.706625Z",
          "iopub.status.idle": "2023-01-29T17:17:00.882868Z",
          "shell.execute_reply": "2023-01-29T17:17:00.881844Z",
          "shell.execute_reply.started": "2023-01-29T17:17:00.706907Z"
        },
        "id": "QlwD5alBAsWa",
        "outputId": "ddb35a59-11f5-4977-a647-8a0c857c646f",
        "trusted": true
      },
      "outputs": [
        {
          "ename": "ValueError",
          "evalue": "could not convert string to float: 'Y'",
          "output_type": "error",
          "traceback": [
            "\u001b[0;31m---------------------------------------------------------------------------\u001b[0m",
            "\u001b[0;31mValueError\u001b[0m                                Traceback (most recent call last)",
            "Cell \u001b[0;32mIn [30], line 1\u001b[0m\n\u001b[0;32m----> 1\u001b[0m sns\u001b[39m.\u001b[39;49mcountplot(df[\u001b[39m'\u001b[39;49m\u001b[39mLoan_Status\u001b[39;49m\u001b[39m'\u001b[39;49m])\n",
            "File \u001b[0;32m~/.local/lib/python3.10/site-packages/seaborn/categorical.py:2939\u001b[0m, in \u001b[0;36mcountplot\u001b[0;34m(data, x, y, hue, order, hue_order, orient, color, palette, saturation, width, dodge, ax, **kwargs)\u001b[0m\n\u001b[1;32m   2936\u001b[0m \u001b[39melif\u001b[39;00m x \u001b[39mis\u001b[39;00m \u001b[39mnot\u001b[39;00m \u001b[39mNone\u001b[39;00m \u001b[39mand\u001b[39;00m y \u001b[39mis\u001b[39;00m \u001b[39mnot\u001b[39;00m \u001b[39mNone\u001b[39;00m:\n\u001b[1;32m   2937\u001b[0m     \u001b[39mraise\u001b[39;00m \u001b[39mValueError\u001b[39;00m(\u001b[39m\"\u001b[39m\u001b[39mCannot pass values for both `x` and `y`\u001b[39m\u001b[39m\"\u001b[39m)\n\u001b[0;32m-> 2939\u001b[0m plotter \u001b[39m=\u001b[39m _CountPlotter(\n\u001b[1;32m   2940\u001b[0m     x, y, hue, data, order, hue_order,\n\u001b[1;32m   2941\u001b[0m     estimator, errorbar, n_boot, units, seed,\n\u001b[1;32m   2942\u001b[0m     orient, color, palette, saturation,\n\u001b[1;32m   2943\u001b[0m     width, errcolor, errwidth, capsize, dodge\n\u001b[1;32m   2944\u001b[0m )\n\u001b[1;32m   2946\u001b[0m plotter\u001b[39m.\u001b[39mvalue_label \u001b[39m=\u001b[39m \u001b[39m\"\u001b[39m\u001b[39mcount\u001b[39m\u001b[39m\"\u001b[39m\n\u001b[1;32m   2948\u001b[0m \u001b[39mif\u001b[39;00m ax \u001b[39mis\u001b[39;00m \u001b[39mNone\u001b[39;00m:\n",
            "File \u001b[0;32m~/.local/lib/python3.10/site-packages/seaborn/categorical.py:1530\u001b[0m, in \u001b[0;36m_BarPlotter.__init__\u001b[0;34m(self, x, y, hue, data, order, hue_order, estimator, errorbar, n_boot, units, seed, orient, color, palette, saturation, width, errcolor, errwidth, capsize, dodge)\u001b[0m\n\u001b[1;32m   1525\u001b[0m \u001b[39mdef\u001b[39;00m \u001b[39m__init__\u001b[39m(\u001b[39mself\u001b[39m, x, y, hue, data, order, hue_order,\n\u001b[1;32m   1526\u001b[0m              estimator, errorbar, n_boot, units, seed,\n\u001b[1;32m   1527\u001b[0m              orient, color, palette, saturation, width,\n\u001b[1;32m   1528\u001b[0m              errcolor, errwidth, capsize, dodge):\n\u001b[1;32m   1529\u001b[0m     \u001b[39m\"\"\"Initialize the plotter.\"\"\"\u001b[39;00m\n\u001b[0;32m-> 1530\u001b[0m     \u001b[39mself\u001b[39;49m\u001b[39m.\u001b[39;49mestablish_variables(x, y, hue, data, orient,\n\u001b[1;32m   1531\u001b[0m                              order, hue_order, units)\n\u001b[1;32m   1532\u001b[0m     \u001b[39mself\u001b[39m\u001b[39m.\u001b[39mestablish_colors(color, palette, saturation)\n\u001b[1;32m   1533\u001b[0m     \u001b[39mself\u001b[39m\u001b[39m.\u001b[39mestimate_statistic(estimator, errorbar, n_boot, seed)\n",
            "File \u001b[0;32m~/.local/lib/python3.10/site-packages/seaborn/categorical.py:516\u001b[0m, in \u001b[0;36m_CategoricalPlotter.establish_variables\u001b[0;34m(self, x, y, hue, data, orient, order, hue_order, units)\u001b[0m\n\u001b[1;32m    513\u001b[0m     plot_data \u001b[39m=\u001b[39m data\n\u001b[1;32m    515\u001b[0m \u001b[39m# Convert to a list of arrays, the common representation\u001b[39;00m\n\u001b[0;32m--> 516\u001b[0m plot_data \u001b[39m=\u001b[39m [np\u001b[39m.\u001b[39masarray(d, \u001b[39mfloat\u001b[39m) \u001b[39mfor\u001b[39;00m d \u001b[39min\u001b[39;00m plot_data]\n\u001b[1;32m    518\u001b[0m \u001b[39m# The group names will just be numeric indices\u001b[39;00m\n\u001b[1;32m    519\u001b[0m group_names \u001b[39m=\u001b[39m \u001b[39mlist\u001b[39m(\u001b[39mrange\u001b[39m(\u001b[39mlen\u001b[39m(plot_data)))\n",
            "File \u001b[0;32m~/.local/lib/python3.10/site-packages/seaborn/categorical.py:516\u001b[0m, in \u001b[0;36m<listcomp>\u001b[0;34m(.0)\u001b[0m\n\u001b[1;32m    513\u001b[0m     plot_data \u001b[39m=\u001b[39m data\n\u001b[1;32m    515\u001b[0m \u001b[39m# Convert to a list of arrays, the common representation\u001b[39;00m\n\u001b[0;32m--> 516\u001b[0m plot_data \u001b[39m=\u001b[39m [np\u001b[39m.\u001b[39;49masarray(d, \u001b[39mfloat\u001b[39;49m) \u001b[39mfor\u001b[39;00m d \u001b[39min\u001b[39;00m plot_data]\n\u001b[1;32m    518\u001b[0m \u001b[39m# The group names will just be numeric indices\u001b[39;00m\n\u001b[1;32m    519\u001b[0m group_names \u001b[39m=\u001b[39m \u001b[39mlist\u001b[39m(\u001b[39mrange\u001b[39m(\u001b[39mlen\u001b[39m(plot_data)))\n",
            "File \u001b[0;32m~/.local/lib/python3.10/site-packages/pandas/core/series.py:872\u001b[0m, in \u001b[0;36mSeries.__array__\u001b[0;34m(self, dtype)\u001b[0m\n\u001b[1;32m    825\u001b[0m \u001b[39mdef\u001b[39;00m \u001b[39m__array__\u001b[39m(\u001b[39mself\u001b[39m, dtype: npt\u001b[39m.\u001b[39mDTypeLike \u001b[39m|\u001b[39m \u001b[39mNone\u001b[39;00m \u001b[39m=\u001b[39m \u001b[39mNone\u001b[39;00m) \u001b[39m-\u001b[39m\u001b[39m>\u001b[39m np\u001b[39m.\u001b[39mndarray:\n\u001b[1;32m    826\u001b[0m     \u001b[39m\"\"\"\u001b[39;00m\n\u001b[1;32m    827\u001b[0m \u001b[39m    Return the values as a NumPy array.\u001b[39;00m\n\u001b[1;32m    828\u001b[0m \n\u001b[0;32m   (...)\u001b[0m\n\u001b[1;32m    870\u001b[0m \u001b[39m          dtype='datetime64[ns]')\u001b[39;00m\n\u001b[1;32m    871\u001b[0m \u001b[39m    \"\"\"\u001b[39;00m\n\u001b[0;32m--> 872\u001b[0m     \u001b[39mreturn\u001b[39;00m np\u001b[39m.\u001b[39;49masarray(\u001b[39mself\u001b[39;49m\u001b[39m.\u001b[39;49m_values, dtype)\n",
            "\u001b[0;31mValueError\u001b[0m: could not convert string to float: 'Y'"
          ]
        }
      ],
      "source": [
        "sns.countplot(df['Loan_Status'])"
      ]
    },
    {
      "cell_type": "code",
      "execution_count": null,
      "metadata": {
        "colab": {
          "base_uri": "https://localhost:8080/",
          "height": 353
        },
        "execution": {
          "iopub.execute_input": "2023-01-29T17:17:00.885603Z",
          "iopub.status.busy": "2023-01-29T17:17:00.884976Z",
          "iopub.status.idle": "2023-01-29T17:17:01.044403Z",
          "shell.execute_reply": "2023-01-29T17:17:01.043039Z",
          "shell.execute_reply.started": "2023-01-29T17:17:00.885567Z"
        },
        "id": "AijUkAYaAsWa",
        "outputId": "a8db4c83-d8bc-4a71-a336-2bdfabd3cb39",
        "trusted": true
      },
      "outputs": [
        {
          "name": "stderr",
          "output_type": "stream",
          "text": [
            "/usr/local/lib/python3.8/dist-packages/seaborn/_decorators.py:36: FutureWarning: Pass the following variable as a keyword arg: x. From version 0.12, the only valid positional argument will be `data`, and passing other arguments without an explicit keyword will result in an error or misinterpretation.\n",
            "  warnings.warn(\n"
          ]
        },
        {
          "data": {
            "text/plain": [
              "<AxesSubplot:xlabel='Gender', ylabel='count'>"
            ]
          },
          "execution_count": 22,
          "metadata": {},
          "output_type": "execute_result"
        },
        {
          "data": {
            "image/png": "[encoded data removed]",
            "text/plain": [
              "<Figure size 432x288 with 1 Axes>"
            ]
          },
          "metadata": {
            "needs_background": "light"
          },
          "output_type": "display_data"
        }
      ],
      "source": [
        "sns.countplot(df['Gender'])"
      ]
    },
    {
      "cell_type": "code",
      "execution_count": null,
      "metadata": {
        "colab": {
          "base_uri": "https://localhost:8080/",
          "height": 353
        },
        "execution": {
          "iopub.execute_input": "2023-01-29T17:17:01.048612Z",
          "iopub.status.busy": "2023-01-29T17:17:01.048242Z",
          "iopub.status.idle": "2023-01-29T17:17:01.223864Z",
          "shell.execute_reply": "2023-01-29T17:17:01.222817Z",
          "shell.execute_reply.started": "2023-01-29T17:17:01.048584Z"
        },
        "id": "H71fgNZnAsWa",
        "outputId": "9b8098e8-706e-4e48-bca8-055d0ed24e0c",
        "trusted": true
      },
      "outputs": [
        {
          "name": "stderr",
          "output_type": "stream",
          "text": [
            "/usr/local/lib/python3.8/dist-packages/seaborn/_decorators.py:36: FutureWarning: Pass the following variable as a keyword arg: x. From version 0.12, the only valid positional argument will be `data`, and passing other arguments without an explicit keyword will result in an error or misinterpretation.\n",
            "  warnings.warn(\n"
          ]
        },
        {
          "data": {
            "text/plain": [
              "<AxesSubplot:xlabel='Married', ylabel='count'>"
            ]
          },
          "execution_count": 23,
          "metadata": {},
          "output_type": "execute_result"
        },
        {
          "data": {
            "image/png": "[encoded data removed]",
            "text/plain": [
              "<Figure size 432x288 with 1 Axes>"
            ]
          },
          "metadata": {
            "needs_background": "light"
          },
          "output_type": "display_data"
        }
      ],
      "source": [
        "sns.countplot(df['Married'])"
      ]
    },
    {
      "cell_type": "code",
      "execution_count": null,
      "metadata": {
        "colab": {
          "base_uri": "https://localhost:8080/",
          "height": 353
        },
        "execution": {
          "iopub.execute_input": "2023-01-29T17:17:01.229148Z",
          "iopub.status.busy": "2023-01-29T17:17:01.228518Z",
          "iopub.status.idle": "2023-01-29T17:17:01.410787Z",
          "shell.execute_reply": "2023-01-29T17:17:01.40991Z",
          "shell.execute_reply.started": "2023-01-29T17:17:01.229106Z"
        },
        "id": "8GD277mdAsWa",
        "outputId": "37b1f90d-7d1e-4afb-cb1d-c73527a5f3f5",
        "trusted": true
      },
      "outputs": [
        {
          "name": "stderr",
          "output_type": "stream",
          "text": [
            "/usr/local/lib/python3.8/dist-packages/seaborn/_decorators.py:36: FutureWarning: Pass the following variable as a keyword arg: x. From version 0.12, the only valid positional argument will be `data`, and passing other arguments without an explicit keyword will result in an error or misinterpretation.\n",
            "  warnings.warn(\n"
          ]
        },
        {
          "data": {
            "text/plain": [
              "<AxesSubplot:xlabel='Dependents', ylabel='count'>"
            ]
          },
          "execution_count": 24,
          "metadata": {},
          "output_type": "execute_result"
        },
        {
          "data": {
            "image/png": "[encoded data removed]",
            "text/plain": [
              "<Figure size 432x288 with 1 Axes>"
            ]
          },
          "metadata": {
            "needs_background": "light"
          },
          "output_type": "display_data"
        }
      ],
      "source": [
        "sns.countplot(df['Dependents'])"
      ]
    },
    {
      "cell_type": "code",
      "execution_count": null,
      "metadata": {
        "colab": {
          "base_uri": "https://localhost:8080/",
          "height": 356
        },
        "execution": {
          "iopub.execute_input": "2023-01-29T17:17:01.412484Z",
          "iopub.status.busy": "2023-01-29T17:17:01.412136Z",
          "iopub.status.idle": "2023-01-29T17:17:01.580884Z",
          "shell.execute_reply": "2023-01-29T17:17:01.579925Z",
          "shell.execute_reply.started": "2023-01-29T17:17:01.412449Z"
        },
        "id": "SxuQ8_SdAsWa",
        "outputId": "69fef627-301d-431b-f78b-04bd82d81336",
        "trusted": true
      },
      "outputs": [
        {
          "name": "stderr",
          "output_type": "stream",
          "text": [
            "/usr/local/lib/python3.8/dist-packages/seaborn/_decorators.py:36: FutureWarning: Pass the following variable as a keyword arg: x. From version 0.12, the only valid positional argument will be `data`, and passing other arguments without an explicit keyword will result in an error or misinterpretation.\n",
            "  warnings.warn(\n"
          ]
        },
        {
          "data": {
            "text/plain": [
              "<AxesSubplot:xlabel='Education', ylabel='count'>"
            ]
          },
          "execution_count": 25,
          "metadata": {},
          "output_type": "execute_result"
        },
        {
          "data": {
            "image/png": "[encoded data removed]",
            "text/plain": [
              "<Figure size 432x288 with 1 Axes>"
            ]
          },
          "metadata": {
            "needs_background": "light"
          },
          "output_type": "display_data"
        }
      ],
      "source": [
        "sns.countplot(df['Education'])"
      ]
    },
    {
      "cell_type": "code",
      "execution_count": null,
      "metadata": {
        "colab": {
          "base_uri": "https://localhost:8080/",
          "height": 354
        },
        "execution": {
          "iopub.execute_input": "2023-01-29T17:17:01.582662Z",
          "iopub.status.busy": "2023-01-29T17:17:01.582187Z",
          "iopub.status.idle": "2023-01-29T17:17:01.744193Z",
          "shell.execute_reply": "2023-01-29T17:17:01.742903Z",
          "shell.execute_reply.started": "2023-01-29T17:17:01.582623Z"
        },
        "id": "SNxJO3BwAsWa",
        "outputId": "db3a5596-0c48-407d-e15b-18638f5e33fa",
        "trusted": true
      },
      "outputs": [
        {
          "name": "stderr",
          "output_type": "stream",
          "text": [
            "/usr/local/lib/python3.8/dist-packages/seaborn/_decorators.py:36: FutureWarning: Pass the following variable as a keyword arg: x. From version 0.12, the only valid positional argument will be `data`, and passing other arguments without an explicit keyword will result in an error or misinterpretation.\n",
            "  warnings.warn(\n"
          ]
        },
        {
          "data": {
            "text/plain": [
              "<AxesSubplot:xlabel='Self_Employed', ylabel='count'>"
            ]
          },
          "execution_count": 26,
          "metadata": {},
          "output_type": "execute_result"
        },
        {
          "data": {
            "image/png": "[encoded data removed]",
            "text/plain": [
              "<Figure size 432x288 with 1 Axes>"
            ]
          },
          "metadata": {
            "needs_background": "light"
          },
          "output_type": "display_data"
        }
      ],
      "source": [
        "sns.countplot(df['Self_Employed'])"
      ]
    },
    {
      "cell_type": "code",
      "execution_count": null,
      "metadata": {
        "colab": {
          "base_uri": "https://localhost:8080/",
          "height": 288
        },
        "execution": {
          "iopub.execute_input": "2023-01-29T17:17:01.745971Z",
          "iopub.status.busy": "2023-01-29T17:17:01.745596Z",
          "iopub.status.idle": "2023-01-29T17:17:01.768914Z",
          "shell.execute_reply": "2023-01-29T17:17:01.767658Z",
          "shell.execute_reply.started": "2023-01-29T17:17:01.745931Z"
        },
        "id": "HRVctJNIAsWa",
        "outputId": "47434341-55a7-42ee-a714-be511c8d7614",
        "trusted": true
      },
      "outputs": [
        {
          "data": {
            "text/html": [
              "<div>\n",
              "<style scoped>\n",
              "    .dataframe tbody tr th:only-of-type {\n",
              "        vertical-align: middle;\n",
              "    }\n",
              "\n",
              "    .dataframe tbody tr th {\n",
              "        vertical-align: top;\n",
              "    }\n",
              "\n",
              "    .dataframe thead th {\n",
              "        text-align: right;\n",
              "    }\n",
              "</style>\n",
              "<table border=\"1\" class=\"dataframe\">\n",
              "  <thead>\n",
              "    <tr style=\"text-align: right;\">\n",
              "      <th></th>\n",
              "      <th>Gender</th>\n",
              "      <th>Married</th>\n",
              "      <th>Dependents</th>\n",
              "      <th>Education</th>\n",
              "      <th>Self_Employed</th>\n",
              "      <th>ApplicantIncome</th>\n",
              "      <th>CoapplicantIncome</th>\n",
              "      <th>LoanAmount</th>\n",
              "      <th>Loan_Amount_Term</th>\n",
              "      <th>Credit_History</th>\n",
              "      <th>Property_Area</th>\n",
              "      <th>Loan_Status</th>\n",
              "      <th>TotalIncome</th>\n",
              "    </tr>\n",
              "  </thead>\n",
              "  <tbody>\n",
              "    <tr>\n",
              "      <th>0</th>\n",
              "      <td>Male</td>\n",
              "      <td>No</td>\n",
              "      <td>0</td>\n",
              "      <td>Graduate</td>\n",
              "      <td>No</td>\n",
              "      <td>5849</td>\n",
              "      <td>0.0</td>\n",
              "      <td>146.412162</td>\n",
              "      <td>360.0</td>\n",
              "      <td>1.0</td>\n",
              "      <td>Urban</td>\n",
              "      <td>Y</td>\n",
              "      <td>5849.0</td>\n",
              "    </tr>\n",
              "    <tr>\n",
              "      <th>1</th>\n",
              "      <td>Male</td>\n",
              "      <td>Yes</td>\n",
              "      <td>1</td>\n",
              "      <td>Graduate</td>\n",
              "      <td>No</td>\n",
              "      <td>4583</td>\n",
              "      <td>1508.0</td>\n",
              "      <td>128.000000</td>\n",
              "      <td>360.0</td>\n",
              "      <td>1.0</td>\n",
              "      <td>Rural</td>\n",
              "      <td>N</td>\n",
              "      <td>6091.0</td>\n",
              "    </tr>\n",
              "    <tr>\n",
              "      <th>2</th>\n",
              "      <td>Male</td>\n",
              "      <td>Yes</td>\n",
              "      <td>0</td>\n",
              "      <td>Graduate</td>\n",
              "      <td>Yes</td>\n",
              "      <td>3000</td>\n",
              "      <td>0.0</td>\n",
              "      <td>66.000000</td>\n",
              "      <td>360.0</td>\n",
              "      <td>1.0</td>\n",
              "      <td>Urban</td>\n",
              "      <td>Y</td>\n",
              "      <td>3000.0</td>\n",
              "    </tr>\n",
              "    <tr>\n",
              "      <th>3</th>\n",
              "      <td>Male</td>\n",
              "      <td>Yes</td>\n",
              "      <td>0</td>\n",
              "      <td>Not Graduate</td>\n",
              "      <td>No</td>\n",
              "      <td>2583</td>\n",
              "      <td>2358.0</td>\n",
              "      <td>120.000000</td>\n",
              "      <td>360.0</td>\n",
              "      <td>1.0</td>\n",
              "      <td>Urban</td>\n",
              "      <td>Y</td>\n",
              "      <td>4941.0</td>\n",
              "    </tr>\n",
              "    <tr>\n",
              "      <th>4</th>\n",
              "      <td>Male</td>\n",
              "      <td>No</td>\n",
              "      <td>0</td>\n",
              "      <td>Graduate</td>\n",
              "      <td>No</td>\n",
              "      <td>6000</td>\n",
              "      <td>0.0</td>\n",
              "      <td>141.000000</td>\n",
              "      <td>360.0</td>\n",
              "      <td>1.0</td>\n",
              "      <td>Urban</td>\n",
              "      <td>Y</td>\n",
              "      <td>6000.0</td>\n",
              "    </tr>\n",
              "  </tbody>\n",
              "</table>\n",
              "</div>"
            ],
            "text/plain": [
              "  Gender Married Dependents     Education Self_Employed  ApplicantIncome  \\\n",
              "0   Male      No          0      Graduate            No             5849   \n",
              "1   Male     Yes          1      Graduate            No             4583   \n",
              "2   Male     Yes          0      Graduate           Yes             3000   \n",
              "3   Male     Yes          0  Not Graduate            No             2583   \n",
              "4   Male      No          0      Graduate            No             6000   \n",
              "\n",
              "   CoapplicantIncome  LoanAmount  Loan_Amount_Term  Credit_History  \\\n",
              "0                0.0  146.412162             360.0             1.0   \n",
              "1             1508.0  128.000000             360.0             1.0   \n",
              "2                0.0   66.000000             360.0             1.0   \n",
              "3             2358.0  120.000000             360.0             1.0   \n",
              "4                0.0  141.000000             360.0             1.0   \n",
              "\n",
              "  Property_Area Loan_Status  TotalIncome  \n",
              "0         Urban           Y       5849.0  \n",
              "1         Rural           N       6091.0  \n",
              "2         Urban           Y       3000.0  \n",
              "3         Urban           Y       4941.0  \n",
              "4         Urban           Y       6000.0  "
            ]
          },
          "execution_count": 18,
          "metadata": {},
          "output_type": "execute_result"
        }
      ],
      "source": [
        "df['TotalIncome']=df['ApplicantIncome']+df['CoapplicantIncome']\n",
        "df.head()"
      ]
    },
    {
      "cell_type": "markdown",
      "metadata": {
        "id": "256utac4AsWa"
      },
      "source": [
        "# Log Transform"
      ]
    },
    {
      "cell_type": "code",
      "execution_count": null,
      "metadata": {
        "execution": {
          "iopub.execute_input": "2023-01-29T17:17:01.772097Z",
          "iopub.status.busy": "2023-01-29T17:17:01.771304Z",
          "iopub.status.idle": "2023-01-29T17:17:02.030908Z",
          "shell.execute_reply": "2023-01-29T17:17:02.030011Z",
          "shell.execute_reply.started": "2023-01-29T17:17:01.772056Z"
        },
        "id": "8o9XAc9vAsWb",
        "trusted": true
      },
      "outputs": [],
      "source": [
        "df['ApplicantIncomeLog']=np.log(df['ApplicantIncome']+1)\n",
        "df['CoapplicantIncomeLog'] = np.log(df['CoapplicantIncome']+1)\n",
        "df['LoanAmountLog'] = np.log(df['LoanAmount']+1)\n",
        "df['Loan_Amount_Term_Log'] = np.log(df['Loan_Amount_Term']+1)\n",
        "df['Credit_History_Log'] = np.log(df['Credit_History']+1)\n",
        "df['TotalIncomeLog'] = np.log(df['TotalIncome']+1)"
      ]
    },
    {
      "cell_type": "code",
      "execution_count": null,
      "metadata": {
        "colab": {
          "base_uri": "https://localhost:8080/",
          "height": 288
        },
        "execution": {
          "iopub.execute_input": "2023-01-29T17:17:03.254854Z",
          "iopub.status.busy": "2023-01-29T17:17:03.254312Z",
          "iopub.status.idle": "2023-01-29T17:17:03.275724Z",
          "shell.execute_reply": "2023-01-29T17:17:03.274895Z",
          "shell.execute_reply.started": "2023-01-29T17:17:03.254818Z"
        },
        "id": "PKcct4MwAsWc",
        "outputId": "365d1824-175a-4c76-db35-fb81629d688e",
        "trusted": true
      },
      "outputs": [
        {
          "data": {
            "text/html": [
              "<div>\n",
              "<style scoped>\n",
              "    .dataframe tbody tr th:only-of-type {\n",
              "        vertical-align: middle;\n",
              "    }\n",
              "\n",
              "    .dataframe tbody tr th {\n",
              "        vertical-align: top;\n",
              "    }\n",
              "\n",
              "    .dataframe thead th {\n",
              "        text-align: right;\n",
              "    }\n",
              "</style>\n",
              "<table border=\"1\" class=\"dataframe\">\n",
              "  <thead>\n",
              "    <tr style=\"text-align: right;\">\n",
              "      <th></th>\n",
              "      <th>Gender</th>\n",
              "      <th>Married</th>\n",
              "      <th>Dependents</th>\n",
              "      <th>Education</th>\n",
              "      <th>Self_Employed</th>\n",
              "      <th>Property_Area</th>\n",
              "      <th>Loan_Status</th>\n",
              "      <th>ApplicantIncomeLog</th>\n",
              "      <th>CoapplicantIncomeLog</th>\n",
              "      <th>LoanAmountLog</th>\n",
              "      <th>Loan_Amount_Term_Log</th>\n",
              "      <th>Credit_History_Log</th>\n",
              "      <th>TotalIncomeLog</th>\n",
              "    </tr>\n",
              "  </thead>\n",
              "  <tbody>\n",
              "    <tr>\n",
              "      <th>0</th>\n",
              "      <td>Male</td>\n",
              "      <td>No</td>\n",
              "      <td>0</td>\n",
              "      <td>Graduate</td>\n",
              "      <td>No</td>\n",
              "      <td>Urban</td>\n",
              "      <td>Y</td>\n",
              "      <td>8.674197</td>\n",
              "      <td>0.000000</td>\n",
              "      <td>4.993232</td>\n",
              "      <td>5.888878</td>\n",
              "      <td>0.693147</td>\n",
              "      <td>8.674197</td>\n",
              "    </tr>\n",
              "    <tr>\n",
              "      <th>1</th>\n",
              "      <td>Male</td>\n",
              "      <td>Yes</td>\n",
              "      <td>1</td>\n",
              "      <td>Graduate</td>\n",
              "      <td>No</td>\n",
              "      <td>Rural</td>\n",
              "      <td>N</td>\n",
              "      <td>8.430327</td>\n",
              "      <td>7.319202</td>\n",
              "      <td>4.859812</td>\n",
              "      <td>5.888878</td>\n",
              "      <td>0.693147</td>\n",
              "      <td>8.714732</td>\n",
              "    </tr>\n",
              "    <tr>\n",
              "      <th>2</th>\n",
              "      <td>Male</td>\n",
              "      <td>Yes</td>\n",
              "      <td>0</td>\n",
              "      <td>Graduate</td>\n",
              "      <td>Yes</td>\n",
              "      <td>Urban</td>\n",
              "      <td>Y</td>\n",
              "      <td>8.006701</td>\n",
              "      <td>0.000000</td>\n",
              "      <td>4.204693</td>\n",
              "      <td>5.888878</td>\n",
              "      <td>0.693147</td>\n",
              "      <td>8.006701</td>\n",
              "    </tr>\n",
              "    <tr>\n",
              "      <th>3</th>\n",
              "      <td>Male</td>\n",
              "      <td>Yes</td>\n",
              "      <td>0</td>\n",
              "      <td>Not Graduate</td>\n",
              "      <td>No</td>\n",
              "      <td>Urban</td>\n",
              "      <td>Y</td>\n",
              "      <td>7.857094</td>\n",
              "      <td>7.765993</td>\n",
              "      <td>4.795791</td>\n",
              "      <td>5.888878</td>\n",
              "      <td>0.693147</td>\n",
              "      <td>8.505525</td>\n",
              "    </tr>\n",
              "    <tr>\n",
              "      <th>4</th>\n",
              "      <td>Male</td>\n",
              "      <td>No</td>\n",
              "      <td>0</td>\n",
              "      <td>Graduate</td>\n",
              "      <td>No</td>\n",
              "      <td>Urban</td>\n",
              "      <td>Y</td>\n",
              "      <td>8.699681</td>\n",
              "      <td>0.000000</td>\n",
              "      <td>4.955827</td>\n",
              "      <td>5.888878</td>\n",
              "      <td>0.693147</td>\n",
              "      <td>8.699681</td>\n",
              "    </tr>\n",
              "  </tbody>\n",
              "</table>\n",
              "</div>"
            ],
            "text/plain": [
              "  Gender Married Dependents     Education Self_Employed Property_Area  \\\n",
              "0   Male      No          0      Graduate            No         Urban   \n",
              "1   Male     Yes          1      Graduate            No         Rural   \n",
              "2   Male     Yes          0      Graduate           Yes         Urban   \n",
              "3   Male     Yes          0  Not Graduate            No         Urban   \n",
              "4   Male      No          0      Graduate            No         Urban   \n",
              "\n",
              "  Loan_Status  ApplicantIncomeLog  CoapplicantIncomeLog  LoanAmountLog  \\\n",
              "0           Y            8.674197              0.000000       4.993232   \n",
              "1           N            8.430327              7.319202       4.859812   \n",
              "2           Y            8.006701              0.000000       4.204693   \n",
              "3           Y            7.857094              7.765993       4.795791   \n",
              "4           Y            8.699681              0.000000       4.955827   \n",
              "\n",
              "   Loan_Amount_Term_Log  Credit_History_Log  TotalIncomeLog  \n",
              "0              5.888878            0.693147        8.674197  \n",
              "1              5.888878            0.693147        8.714732  \n",
              "2              5.888878            0.693147        8.006701  \n",
              "3              5.888878            0.693147        8.505525  \n",
              "4              5.888878            0.693147        8.699681  "
            ]
          },
          "execution_count": 34,
          "metadata": {},
          "output_type": "execute_result"
        }
      ],
      "source": [
        "cols=['ApplicantIncome','CoapplicantIncome','LoanAmount','Loan_Amount_Term','Credit_History','TotalIncome']\n",
        "df=df.drop(columns=cols)\n",
        "df.head()"
      ]
    },
    {
      "cell_type": "markdown",
      "metadata": {
        "id": "f2UFLBo4AsWc"
      },
      "source": [
        "# Correlation matrix"
      ]
    },
    {
      "cell_type": "code",
      "execution_count": null,
      "metadata": {
        "colab": {
          "base_uri": "https://localhost:8080/",
          "height": 444
        },
        "execution": {
          "iopub.execute_input": "2023-01-29T17:17:03.277113Z",
          "iopub.status.busy": "2023-01-29T17:17:03.276768Z",
          "iopub.status.idle": "2023-01-29T17:17:03.684095Z",
          "shell.execute_reply": "2023-01-29T17:17:03.682936Z",
          "shell.execute_reply.started": "2023-01-29T17:17:03.277078Z"
        },
        "id": "hXqV1tpDAsWc",
        "outputId": "ee9339a2-84d3-4d88-c93d-39ed1c3c59a5",
        "trusted": true
      },
      "outputs": [
        {
          "data": {
            "text/plain": [
              "<AxesSubplot:>"
            ]
          },
          "execution_count": 35,
          "metadata": {},
          "output_type": "execute_result"
        },
        {
          "data": {
            "image/png": "[encoded data removed]",
            "text/plain": [
              "<Figure size 1500x1000 with 2 Axes>"
            ]
          },
          "metadata": {},
          "output_type": "display_data"
        }
      ],
      "source": [
        "corr=df.corr()\n",
        "plt.figure(figsize=(15,10))\n",
        "sns.heatmap(corr,annot=True)"
      ]
    },
    {
      "cell_type": "markdown",
      "metadata": {
        "id": "vGjDxz1wAsWc"
      },
      "source": [
        "# Label_Encoding"
      ]
    },
    {
      "cell_type": "code",
      "execution_count": null,
      "metadata": {
        "execution": {
          "iopub.execute_input": "2023-01-29T17:17:03.68681Z",
          "iopub.status.busy": "2023-01-29T17:17:03.686056Z",
          "iopub.status.idle": "2023-01-29T17:17:03.696298Z",
          "shell.execute_reply": "2023-01-29T17:17:03.695436Z",
          "shell.execute_reply.started": "2023-01-29T17:17:03.686765Z"
        },
        "id": "nz650Bj4AsWc",
        "trusted": true
      },
      "outputs": [],
      "source": [
        "cols=['Gender','Married','Education','Self_Employed','Property_Area','Loan_Status','Dependents']\n",
        "le=LabelEncoder()\n",
        "for c in cols:\n",
        "    df[c]=le.fit_transform(df[c])"
      ]
    },
    {
      "cell_type": "code",
      "execution_count": null,
      "metadata": {
        "colab": {
          "base_uri": "https://localhost:8080/",
          "height": 270
        },
        "execution": {
          "iopub.execute_input": "2023-01-29T17:17:03.698494Z",
          "iopub.status.busy": "2023-01-29T17:17:03.698114Z",
          "iopub.status.idle": "2023-01-29T17:17:03.71673Z",
          "shell.execute_reply": "2023-01-29T17:17:03.715648Z",
          "shell.execute_reply.started": "2023-01-29T17:17:03.698456Z"
        },
        "id": "rw7gHL8TAsWc",
        "outputId": "8756dd11-7c7a-4e0c-a898-39fde494db92",
        "trusted": true
      },
      "outputs": [
        {
          "data": {
            "text/html": [
              "<div>\n",
              "<style scoped>\n",
              "    .dataframe tbody tr th:only-of-type {\n",
              "        vertical-align: middle;\n",
              "    }\n",
              "\n",
              "    .dataframe tbody tr th {\n",
              "        vertical-align: top;\n",
              "    }\n",
              "\n",
              "    .dataframe thead th {\n",
              "        text-align: right;\n",
              "    }\n",
              "</style>\n",
              "<table border=\"1\" class=\"dataframe\">\n",
              "  <thead>\n",
              "    <tr style=\"text-align: right;\">\n",
              "      <th></th>\n",
              "      <th>Gender</th>\n",
              "      <th>Married</th>\n",
              "      <th>Dependents</th>\n",
              "      <th>Education</th>\n",
              "      <th>Self_Employed</th>\n",
              "      <th>Property_Area</th>\n",
              "      <th>Loan_Status</th>\n",
              "      <th>ApplicantIncomeLog</th>\n",
              "      <th>CoapplicantIncomeLog</th>\n",
              "      <th>LoanAmountLog</th>\n",
              "      <th>Loan_Amount_Term_Log</th>\n",
              "      <th>Credit_History_Log</th>\n",
              "      <th>TotalIncomeLog</th>\n",
              "    </tr>\n",
              "  </thead>\n",
              "  <tbody>\n",
              "    <tr>\n",
              "      <th>0</th>\n",
              "      <td>1</td>\n",
              "      <td>0</td>\n",
              "      <td>0</td>\n",
              "      <td>0</td>\n",
              "      <td>0</td>\n",
              "      <td>2</td>\n",
              "      <td>1</td>\n",
              "      <td>8.674197</td>\n",
              "      <td>0.000000</td>\n",
              "      <td>4.993232</td>\n",
              "      <td>5.888878</td>\n",
              "      <td>0.693147</td>\n",
              "      <td>8.674197</td>\n",
              "    </tr>\n",
              "    <tr>\n",
              "      <th>1</th>\n",
              "      <td>1</td>\n",
              "      <td>1</td>\n",
              "      <td>1</td>\n",
              "      <td>0</td>\n",
              "      <td>0</td>\n",
              "      <td>0</td>\n",
              "      <td>0</td>\n",
              "      <td>8.430327</td>\n",
              "      <td>7.319202</td>\n",
              "      <td>4.859812</td>\n",
              "      <td>5.888878</td>\n",
              "      <td>0.693147</td>\n",
              "      <td>8.714732</td>\n",
              "    </tr>\n",
              "    <tr>\n",
              "      <th>2</th>\n",
              "      <td>1</td>\n",
              "      <td>1</td>\n",
              "      <td>0</td>\n",
              "      <td>0</td>\n",
              "      <td>1</td>\n",
              "      <td>2</td>\n",
              "      <td>1</td>\n",
              "      <td>8.006701</td>\n",
              "      <td>0.000000</td>\n",
              "      <td>4.204693</td>\n",
              "      <td>5.888878</td>\n",
              "      <td>0.693147</td>\n",
              "      <td>8.006701</td>\n",
              "    </tr>\n",
              "    <tr>\n",
              "      <th>3</th>\n",
              "      <td>1</td>\n",
              "      <td>1</td>\n",
              "      <td>0</td>\n",
              "      <td>1</td>\n",
              "      <td>0</td>\n",
              "      <td>2</td>\n",
              "      <td>1</td>\n",
              "      <td>7.857094</td>\n",
              "      <td>7.765993</td>\n",
              "      <td>4.795791</td>\n",
              "      <td>5.888878</td>\n",
              "      <td>0.693147</td>\n",
              "      <td>8.505525</td>\n",
              "    </tr>\n",
              "    <tr>\n",
              "      <th>4</th>\n",
              "      <td>1</td>\n",
              "      <td>0</td>\n",
              "      <td>0</td>\n",
              "      <td>0</td>\n",
              "      <td>0</td>\n",
              "      <td>2</td>\n",
              "      <td>1</td>\n",
              "      <td>8.699681</td>\n",
              "      <td>0.000000</td>\n",
              "      <td>4.955827</td>\n",
              "      <td>5.888878</td>\n",
              "      <td>0.693147</td>\n",
              "      <td>8.699681</td>\n",
              "    </tr>\n",
              "  </tbody>\n",
              "</table>\n",
              "</div>"
            ],
            "text/plain": [
              "   Gender  Married  Dependents  Education  Self_Employed  Property_Area  \\\n",
              "0       1        0           0          0              0              2   \n",
              "1       1        1           1          0              0              0   \n",
              "2       1        1           0          0              1              2   \n",
              "3       1        1           0          1              0              2   \n",
              "4       1        0           0          0              0              2   \n",
              "\n",
              "   Loan_Status  ApplicantIncomeLog  CoapplicantIncomeLog  LoanAmountLog  \\\n",
              "0            1            8.674197              0.000000       4.993232   \n",
              "1            0            8.430327              7.319202       4.859812   \n",
              "2            1            8.006701              0.000000       4.204693   \n",
              "3            1            7.857094              7.765993       4.795791   \n",
              "4            1            8.699681              0.000000       4.955827   \n",
              "\n",
              "   Loan_Amount_Term_Log  Credit_History_Log  TotalIncomeLog  \n",
              "0              5.888878            0.693147        8.674197  \n",
              "1              5.888878            0.693147        8.714732  \n",
              "2              5.888878            0.693147        8.006701  \n",
              "3              5.888878            0.693147        8.505525  \n",
              "4              5.888878            0.693147        8.699681  "
            ]
          },
          "execution_count": 37,
          "metadata": {},
          "output_type": "execute_result"
        }
      ],
      "source": [
        "df.head()"
      ]
    },
    {
      "cell_type": "code",
      "execution_count": null,
      "metadata": {
        "id": "YHse44WRLRPm"
      },
      "outputs": [],
      "source": [
        "df.to_csv('loan_training.csv') "
      ]
    },
    {
      "cell_type": "code",
      "execution_count": null,
      "metadata": {
        "execution": {
          "iopub.execute_input": "2023-01-29T17:17:03.718608Z",
          "iopub.status.busy": "2023-01-29T17:17:03.718099Z",
          "iopub.status.idle": "2023-01-29T17:17:03.724786Z",
          "shell.execute_reply": "2023-01-29T17:17:03.723836Z",
          "shell.execute_reply.started": "2023-01-29T17:17:03.718573Z"
        },
        "id": "r5Hyh8TmAsWc",
        "trusted": true
      },
      "outputs": [],
      "source": [
        "X=df.drop(columns=['Loan_Status'])\n",
        "Y=df['Loan_Status']"
      ]
    },
    {
      "cell_type": "code",
      "execution_count": null,
      "metadata": {},
      "outputs": [
        {
          "data": {
            "text/plain": [
              "81000.0"
            ]
          },
          "execution_count": 24,
          "metadata": {},
          "output_type": "execute_result"
        }
      ],
      "source": [
        "X['TotalIncome'].max()"
      ]
    },
    {
      "cell_type": "code",
      "execution_count": null,
      "metadata": {
        "execution": {
          "iopub.execute_input": "2023-01-29T17:17:03.726588Z",
          "iopub.status.busy": "2023-01-29T17:17:03.726184Z",
          "iopub.status.idle": "2023-01-29T17:17:03.736443Z",
          "shell.execute_reply": "2023-01-29T17:17:03.735541Z",
          "shell.execute_reply.started": "2023-01-29T17:17:03.726554Z"
        },
        "id": "d5VhG8rOAsWc",
        "trusted": true
      },
      "outputs": [
        {
          "data": {
            "text/plain": [
              "(460, 12)"
            ]
          },
          "execution_count": 21,
          "metadata": {},
          "output_type": "execute_result"
        }
      ],
      "source": [
        "x_train,x_test,y_train,y_test=train_test_split(X,Y,shuffle=True,random_state=42,test_size=0.25)\n",
        "x_train.shape"
      ]
    },
    {
      "cell_type": "code",
      "execution_count": null,
      "metadata": {
        "execution": {
          "iopub.execute_input": "2023-01-29T17:17:03.738663Z",
          "iopub.status.busy": "2023-01-29T17:17:03.738276Z",
          "iopub.status.idle": "2023-01-29T17:17:03.745614Z",
          "shell.execute_reply": "2023-01-29T17:17:03.744422Z",
          "shell.execute_reply.started": "2023-01-29T17:17:03.73863Z"
        },
        "id": "WO9VCAt1AsWd",
        "trusted": true
      },
      "outputs": [],
      "source": [
        "def model_selection(model,x,y):\n",
        "    x_train,x_test,y_train,y_test=train_test_split(x,y,shuffle=True,random_state=42,test_size=0.25)\n",
        "    model.fit(x_train, y_train)\n",
        "    print(\"Accuracy is\", model.score(x_test, y_test)*100)\n",
        "    \n",
        "    score = cross_val_score(model, x, y, cv=5)\n",
        "    print(\"Cross validation is\",np.mean(score)*100)"
      ]
    },
    {
      "cell_type": "markdown",
      "metadata": {
        "id": "H5mNT4MvOy6d"
      },
      "source": [
        "# Logistic Regression"
      ]
    },
    {
      "cell_type": "code",
      "execution_count": null,
      "metadata": {
        "colab": {
          "base_uri": "https://localhost:8080/"
        },
        "execution": {
          "iopub.execute_input": "2023-01-29T17:19:32.425724Z",
          "iopub.status.busy": "2023-01-29T17:19:32.425353Z",
          "iopub.status.idle": "2023-01-29T17:19:32.634024Z",
          "shell.execute_reply": "2023-01-29T17:19:32.633038Z",
          "shell.execute_reply.started": "2023-01-29T17:19:32.425693Z"
        },
        "id": "XLWq7aeDAsWd",
        "outputId": "42c5b46b-39aa-4873-e516-8c320d79195f",
        "trusted": true
      },
      "outputs": [
        {
          "name": "stdout",
          "output_type": "stream",
          "text": [
            "Accuracy is 77.27272727272727\n",
            "Cross validation is 80.9462881514061\n"
          ]
        }
      ],
      "source": [
        "from sklearn.linear_model import LogisticRegression\n",
        "model = LogisticRegression(max_iter=1000)\n",
        "model_selection(model,X,Y)"
      ]
    },
    {
      "cell_type": "markdown",
      "metadata": {
        "id": "lR4HphzgO2cC"
      },
      "source": [
        "# KNeighbors Classifier"
      ]
    },
    {
      "cell_type": "code",
      "execution_count": null,
      "metadata": {
        "colab": {
          "base_uri": "https://localhost:8080/"
        },
        "execution": {
          "iopub.execute_input": "2023-01-29T17:26:24.637051Z",
          "iopub.status.busy": "2023-01-29T17:26:24.636661Z",
          "iopub.status.idle": "2023-01-29T17:26:24.698768Z",
          "shell.execute_reply": "2023-01-29T17:26:24.697639Z",
          "shell.execute_reply.started": "2023-01-29T17:26:24.637011Z"
        },
        "id": "N3QSH3tAAsWd",
        "outputId": "0ceb7f09-624f-4499-b611-3a9d68ee8457",
        "trusted": true
      },
      "outputs": [
        {
          "name": "stdout",
          "output_type": "stream",
          "text": [
            "Accuracy is 72.07792207792207\n",
            "Cross validation is 69.21897907503664\n"
          ]
        }
      ],
      "source": [
        "from sklearn.neighbors import KNeighborsClassifier\n",
        "model=KNeighborsClassifier(n_neighbors=5)\n",
        "model_selection(model,X,Y)"
      ]
    },
    {
      "cell_type": "markdown",
      "metadata": {
        "id": "TGIw_BLqO7Bq"
      },
      "source": [
        "# Random Forest Classifier"
      ]
    },
    {
      "cell_type": "code",
      "execution_count": null,
      "metadata": {
        "colab": {
          "base_uri": "https://localhost:8080/"
        },
        "execution": {
          "iopub.execute_input": "2023-01-29T17:26:45.468562Z",
          "iopub.status.busy": "2023-01-29T17:26:45.467846Z",
          "iopub.status.idle": "2023-01-29T17:26:46.594881Z",
          "shell.execute_reply": "2023-01-29T17:26:46.593898Z",
          "shell.execute_reply.started": "2023-01-29T17:26:45.468525Z"
        },
        "id": "5nEfrDeuAsWd",
        "outputId": "b0db7a5b-faba-4713-ad9f-1f7295603a26",
        "trusted": true
      },
      "outputs": [
        {
          "name": "stdout",
          "output_type": "stream",
          "text": [
            "Accuracy is 76.62337662337663\n",
            "Cross validation is 78.66719978675197\n"
          ]
        }
      ],
      "source": [
        "from sklearn.ensemble import RandomForestClassifier,ExtraTreesClassifier\n",
        "model=RandomForestClassifier()\n",
        "model_selection(model,X,Y)"
      ]
    },
    {
      "cell_type": "code",
      "execution_count": null,
      "metadata": {
        "colab": {
          "base_uri": "https://localhost:8080/"
        },
        "execution": {
          "iopub.execute_input": "2023-01-29T17:27:12.09611Z",
          "iopub.status.busy": "2023-01-29T17:27:12.095721Z",
          "iopub.status.idle": "2023-01-29T17:27:12.94768Z",
          "shell.execute_reply": "2023-01-29T17:27:12.946759Z",
          "shell.execute_reply.started": "2023-01-29T17:27:12.096079Z"
        },
        "id": "HS7xrOsBAsWd",
        "outputId": "81db88be-2628-4e7f-cd14-ce6d0c11efe0",
        "trusted": true
      },
      "outputs": [
        {
          "name": "stdout",
          "output_type": "stream",
          "text": [
            "Accuracy is 74.67532467532467\n",
            "Cross validation is 77.85152605624417\n"
          ]
        }
      ],
      "source": [
        "model=ExtraTreesClassifier()\n",
        "model_selection(model,X,Y)"
      ]
    },
    {
      "cell_type": "code",
      "execution_count": null,
      "metadata": {
        "colab": {
          "base_uri": "https://localhost:8080/"
        },
        "execution": {
          "iopub.execute_input": "2023-01-29T17:29:23.022941Z",
          "iopub.status.busy": "2023-01-29T17:29:23.022496Z",
          "iopub.status.idle": "2023-01-29T17:29:31.89094Z",
          "shell.execute_reply": "2023-01-29T17:29:31.888972Z",
          "shell.execute_reply.started": "2023-01-29T17:29:23.022895Z"
        },
        "id": "zJ1H8PncAsWd",
        "outputId": "8316d01c-8d02-47b4-c287-0345735034c5",
        "trusted": true
      },
      "outputs": [
        {
          "name": "stdout",
          "output_type": "stream",
          "text": [
            "Accuracy is 77.27272727272727\n",
            "Cross validation is 80.45715047314408\n"
          ]
        }
      ],
      "source": [
        "model = RandomForestClassifier(n_estimators=1000, min_samples_split=25, max_depth=7, max_features=1)\n",
        "model_selection(model,X,Y)"
      ]
    },
    {
      "cell_type": "code",
      "execution_count": null,
      "metadata": {
        "execution": {
          "iopub.execute_input": "2023-01-29T17:33:18.622308Z",
          "iopub.status.busy": "2023-01-29T17:33:18.621911Z",
          "iopub.status.idle": "2023-01-29T17:33:20.108569Z",
          "shell.execute_reply": "2023-01-29T17:33:20.107563Z",
          "shell.execute_reply.started": "2023-01-29T17:33:18.622276Z"
        },
        "id": "mF-Z9v22AsWd",
        "trusted": true
      },
      "outputs": [],
      "source": [
        "from sklearn.metrics import confusion_matrix\n",
        "model = RandomForestClassifier(n_estimators=1000, min_samples_split=25, max_depth=7, max_features=1)\n",
        "model.fit(x_train,y_train)\n",
        "y_pred=model.predict(x_test)\n",
        "cm=confusion_matrix(y_test,y_pred)\n"
      ]
    },
    {
      "cell_type": "code",
      "execution_count": null,
      "metadata": {
        "colab": {
          "base_uri": "https://localhost:8080/",
          "height": 283
        },
        "execution": {
          "iopub.execute_input": "2023-01-29T17:34:02.254813Z",
          "iopub.status.busy": "2023-01-29T17:34:02.254446Z",
          "iopub.status.idle": "2023-01-29T17:34:02.463026Z",
          "shell.execute_reply": "2023-01-29T17:34:02.461943Z",
          "shell.execute_reply.started": "2023-01-29T17:34:02.254783Z"
        },
        "id": "-jh0xuNaAsWd",
        "outputId": "54f17755-0019-4f45-a195-dabb0a7c7505",
        "trusted": true
      },
      "outputs": [
        {
          "data": {
            "text/plain": [
              "<AxesSubplot:>"
            ]
          },
          "execution_count": 48,
          "metadata": {},
          "output_type": "execute_result"
        },
        {
          "data": {
            "image/png": "[encoded data removed]",
            "text/plain": [
              "<Figure size 640x480 with 2 Axes>"
            ]
          },
          "metadata": {},
          "output_type": "display_data"
        }
      ],
      "source": [
        "sns.heatmap(cm,annot=True)"
      ]
    },
    {
      "cell_type": "code",
      "execution_count": null,
      "metadata": {
        "colab": {
          "base_uri": "https://localhost:8080/"
        },
        "id": "Tprw7ZsFmq-g",
        "outputId": "be6c96fc-576d-45ad-fbe2-4d5a1dfa0143"
      },
      "outputs": [
        {
          "data": {
            "text/plain": [
              "['RF.C5']"
            ]
          },
          "execution_count": 49,
          "metadata": {},
          "output_type": "execute_result"
        }
      ],
      "source": [
        "import joblib\n",
        "joblib.dump(model, 'RF.C5')"
      ]
    },
    {
      "cell_type": "markdown",
      "metadata": {
        "id": "DDch3Q4ZPGBf"
      },
      "source": [
        "# User Input"
      ]
    },
    {
      "cell_type": "code",
      "execution_count": null,
      "metadata": {
        "colab": {
          "base_uri": "https://localhost:8080/"
        },
        "id": "Jeyr2DH5PFpS",
        "outputId": "96969957-eb10-4408-b690-ef5990cc19ad"
      },
      "outputs": [],
      "source": [
        "lst = []\n",
        "gender = int(input(\"Enter 1 if Male and 0 if Female :\"))\n",
        "lst.append(gender)\n",
        "married = int(input(\"Enter 0 if unmarried and 1 if married :\"))\n",
        "lst.append(married)\n",
        "depend = int(input(\"Dependents\"))\n",
        "lst.append(depend)\n",
        "edu = int(input(\"Enter 0 if uneducated and 1 if educated :\"))\n",
        "lst.append(edu)\n",
        "self_emp = int(input(\" Enter 0 if umemployed and 1 if unemployed :\"))\n",
        "lst.append(self_emp)\n",
        "area = int(input('''Enter Propertu_Area:\n",
        "                  0 - Rural\n",
        "                  1 - Semi-Urban\n",
        "                  2 - Urban\n",
        "                  '''))\n",
        "lst.append(area)\n",
        "\n",
        "\n",
        "applicant_inc = int(input(\"Enter applicant income :\"))\n",
        "app_inc = np.log(applicant_inc + 1)\n",
        "lst.append(app_inc)\n",
        "\n",
        "co_applicant_inc = float(input(\"Enter co-applicant income :\"))\n",
        "coapp_inc = np.log(co_applicant_inc + 1)\n",
        "lst.append(coapp_inc)\n",
        "\n",
        "loan_amount = float(input(\"Enter the loan amount :\"))\n",
        "loan_amt = np.log(loan_amount + 1)\n",
        "lst.append(loan_amt)\n",
        "\n",
        "loan_amt_term = float(input(\"Enter the loan amount term :\"))\n",
        "loan_amount_term = np.log(loan_amt_term + 1)\n",
        "lst.append(loan_amt)\n",
        "\n",
        "credit_his = float(input(\"Enter 1 if credit_card_holder else 0\"))\n",
        "credit_history = np.log(credit_his +1)\n",
        "lst.append(credit_history)\n",
        "\n",
        "total_income = applicant_inc + co_applicant_inc\n",
        "total_inc = np.log(total_income)\n",
        "lst.append(total_inc)"
      ]
    },
    {
      "cell_type": "code",
      "execution_count": null,
      "metadata": {
        "colab": {
          "base_uri": "https://localhost:8080/"
        },
        "id": "rQjz7UjwaOQs",
        "outputId": "d840d4c9-4cba-45c8-b69d-4866e07501e5"
      },
      "outputs": [
        {
          "name": "stdout",
          "output_type": "stream",
          "text": [
            "1\n"
          ]
        },
        {
          "name": "stderr",
          "output_type": "stream",
          "text": [
            "/usr/local/lib/python3.8/dist-packages/sklearn/base.py:450: UserWarning: X does not have valid feature names, but RandomForestClassifier was fitted with feature names\n",
            "  warnings.warn(\n"
          ]
        }
      ],
      "source": [
        "prediction = model.predict([lst])\n",
        "print(prediction[0])"
      ]
    }
  ],
  "metadata": {
    "colab": {
      "provenance": []
    },
    "kernelspec": {
      "display_name": "Python 3",
      "language": "python",
      "name": "python3"
    },
    "language_info": {
      "codemirror_mode": {
        "name": "ipython",
        "version": 3
      },
      "file_extension": ".py",
      "mimetype": "text/x-python",
      "name": "python",
      "nbconvert_exporter": "python",
      "pygments_lexer": "ipython3",
      "version": "3.10.6"
    },
    "vscode": {
      "interpreter": {
        "hash": "916dbcbb3f70747c44a77c7bcd40155683ae19c65e1c03b4aa3499c5328201f1"
      }
    }
  },
  "nbformat": 4,
  "nbformat_minor": 0
}
