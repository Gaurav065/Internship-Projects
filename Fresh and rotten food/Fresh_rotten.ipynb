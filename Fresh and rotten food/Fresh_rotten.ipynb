{
  "cells": [
    {
      "cell_type": "code",
      "execution_count": 1,
      "metadata": {
        "id": "7E4qgkp_wGaE"
      },
      "outputs": [],
      "source": [
        "from keras.utils import np_utils\n",
        "from keras.models import Sequential\n",
        "from keras.layers import Convolution2D,Dense,MaxPool2D,Activation,Dropout,Flatten\n",
        "from keras.layers import GlobalAveragePooling2D\n",
        "from keras.optimizers import Adam\n",
        "from sklearn.model_selection import train_test_split\n",
        "from keras.layers import BatchNormalization\n",
        "import os \n",
        "import pandas as pd\n",
        "import plotly.graph_objs as go\n",
        "import matplotlib.ticker as ticker\n",
        "import matplotlib.pyplot as plt\n",
        "import seaborn as sns\n",
        "from tensorflow.keras.models import load_model\n",
        "import plotly.express as px\n",
        "import cv2\n",
        "import numpy as np\n",
        "from sklearn.model_selection import train_test_split\n",
        "from keras.layers import Input, Add, Dense, Activation, ZeroPadding2D, BatchNormalization, Flatten, Conv2D, AveragePooling2D, MaxPooling2D, GlobalMaxPooling2D"
      ]
    },
    {
      "cell_type": "code",
      "source": [],
      "metadata": {
        "id": "4k0zQc59PKtp"
      },
      "execution_count": null,
      "outputs": []
    },
    {
      "cell_type": "code",
      "execution_count": 3,
      "metadata": {
        "colab": {
          "base_uri": "https://localhost:8080/"
        },
        "id": "MeTMtosYpVKS",
        "outputId": "a31dfdca-02ce-449b-925e-d7be70c35e0d"
      },
      "outputs": [
        {
          "output_type": "stream",
          "name": "stdout",
          "text": [
            "Looking in indexes: https://pypi.org/simple, https://us-python.pkg.dev/colab-wheels/public/simple/\n",
            "Requirement already satisfied: opendatasets in /usr/local/lib/python3.10/dist-packages (0.1.22)\n",
            "Requirement already satisfied: tqdm in /usr/local/lib/python3.10/dist-packages (from opendatasets) (4.65.0)\n",
            "Requirement already satisfied: kaggle in /usr/local/lib/python3.10/dist-packages (from opendatasets) (1.5.13)\n",
            "Requirement already satisfied: click in /usr/local/lib/python3.10/dist-packages (from opendatasets) (8.1.3)\n",
            "Requirement already satisfied: six>=1.10 in /usr/local/lib/python3.10/dist-packages (from kaggle->opendatasets) (1.16.0)\n",
            "Requirement already satisfied: certifi in /usr/local/lib/python3.10/dist-packages (from kaggle->opendatasets) (2022.12.7)\n",
            "Requirement already satisfied: python-dateutil in /usr/local/lib/python3.10/dist-packages (from kaggle->opendatasets) (2.8.2)\n",
            "Requirement already satisfied: requests in /usr/local/lib/python3.10/dist-packages (from kaggle->opendatasets) (2.27.1)\n",
            "Requirement already satisfied: python-slugify in /usr/local/lib/python3.10/dist-packages (from kaggle->opendatasets) (8.0.1)\n",
            "Requirement already satisfied: urllib3 in /usr/local/lib/python3.10/dist-packages (from kaggle->opendatasets) (1.26.15)\n",
            "Requirement already satisfied: text-unidecode>=1.3 in /usr/local/lib/python3.10/dist-packages (from python-slugify->kaggle->opendatasets) (1.3)\n",
            "Requirement already satisfied: charset-normalizer~=2.0.0 in /usr/local/lib/python3.10/dist-packages (from requests->kaggle->opendatasets) (2.0.12)\n",
            "Requirement already satisfied: idna<4,>=2.5 in /usr/local/lib/python3.10/dist-packages (from requests->kaggle->opendatasets) (3.4)\n",
            "Please provide your Kaggle credentials to download this dataset. Learn more: http://bit.ly/kaggle-creds\n",
            "Your Kaggle username: gaurav065\n",
            "Your Kaggle Key: ··········\n",
            "Downloading fresh-and-stale-images-of-fruits-and-vegetables.zip to ./fresh-and-stale-images-of-fruits-and-vegetables\n"
          ]
        },
        {
          "output_type": "stream",
          "name": "stderr",
          "text": [
            "100%|██████████| 1.41G/1.41G [01:06<00:00, 22.9MB/s]\n"
          ]
        },
        {
          "output_type": "stream",
          "name": "stdout",
          "text": [
            "\n"
          ]
        }
      ],
      "source": [
        "!pip install opendatasets\n",
        "import opendatasets as od\n",
        "od.download('https://www.kaggle.com/datasets/raghavrpotdar/fresh-and-stale-images-of-fruits-and-vegetables')"
      ]
    },
    {
      "cell_type": "code",
      "execution_count": 4,
      "metadata": {
        "id": "0nuwrNtguWJr"
      },
      "outputs": [],
      "source": [
        "train ='/content/fresh-and-stale-images-of-fruits-and-vegetables'\n",
        "# validation_dir = '/content/fruits-fresh-and-rotten-for-classification/dataset/train'"
      ]
    },
    {
      "cell_type": "code",
      "execution_count": 5,
      "metadata": {
        "id": "boFpeNSVwTX2"
      },
      "outputs": [],
      "source": [
        "import glob\n",
        "def get_files(directory):\n",
        "  if not os.path.exists(directory):\n",
        "    return 0\n",
        "  count=0\n",
        "  for current_path,dirs,files in os.walk(directory):\n",
        "    for dr in dirs:\n",
        "      count+= len(glob.glob(os.path.join(current_path,dr+\"/*\")))\n",
        "  return count"
      ]
    },
    {
      "cell_type": "code",
      "execution_count": 6,
      "metadata": {
        "colab": {
          "base_uri": "https://localhost:8080/"
        },
        "id": "5ACoTgXkv4dt",
        "outputId": "87e38025-1c4c-4f50-f200-998cc36fdec8"
      },
      "outputs": [
        {
          "output_type": "stream",
          "name": "stdout",
          "text": [
            "13 Classes\n",
            "14682 Train images\n"
          ]
        }
      ],
      "source": [
        "train_samples =get_files(train)\n",
        "num_classes=len(glob.glob(train+\"/*\"))\n",
        "# test_samples=get_files(validation_dir)\n",
        "print(num_classes,\"Classes\")\n",
        "print(train_samples,\"Train images\")\n",
        "# print(test_samples,\"Test images\")"
      ]
    },
    {
      "cell_type": "code",
      "execution_count": 10,
      "metadata": {
        "colab": {
          "base_uri": "https://localhost:8080/"
        },
        "id": "sfiUXK6evyTD",
        "outputId": "94bac24c-9615-4e26-d35a-be1c858af116"
      },
      "outputs": [
        {
          "output_type": "stream",
          "name": "stdout",
          "text": [
            "Found 10282 images belonging to 12 classes.\n",
            "Found 4400 images belonging to 12 classes.\n"
          ]
        }
      ],
      "source": [
        "from keras.applications.mobilenet import preprocess_input\n",
        "import tensorflow as tf\n",
        "training=tf.keras.preprocessing.image.ImageDataGenerator(\n",
        "    zca_epsilon=1e-06,\n",
        "    rotation_range=30,\n",
        "    width_shift_range=0.1,\n",
        "    height_shift_range=0.1,\n",
        "    shear_range=0.1,\n",
        "    zoom_range=0.1,\n",
        "    fill_mode=\"nearest\",\n",
        "    horizontal_flip=True,\n",
        "    vertical_flip=True,\n",
        "    preprocessing_function=preprocess_input,\n",
        "    validation_split=0.30\n",
        ").flow_from_directory(train,batch_size=16,target_size=(224,224),subset=\"training\")\n",
        "\n",
        "validing=tf.keras.preprocessing.image.ImageDataGenerator(\n",
        "    rotation_range=30,\n",
        "    width_shift_range=0.1,\n",
        "    height_shift_range=0.1,\n",
        "    shear_range=0.1,\n",
        "    zoom_range=0.1,\n",
        "    fill_mode=\"nearest\",\n",
        "    horizontal_flip=True,\n",
        "    vertical_flip=True,\n",
        "    preprocessing_function=preprocess_input,\n",
        "    validation_split=0.30\n",
        ").flow_from_directory(train,batch_size=16,target_size=(224,224),subset='validation',shuffle=True)"
      ]
    },
    {
      "cell_type": "code",
      "source": [],
      "metadata": {
        "id": "jWfm_A0wWaM3"
      },
      "execution_count": 10,
      "outputs": []
    },
    {
      "cell_type": "code",
      "source": [
        "from keras import Model\n",
        "from keras import optimizers\n",
        "import tensorflow as tf\n",
        "from keras.optimizers import Adam\n",
        "from keras.models import Sequential\n",
        "from keras.layers import MaxPooling2D, Conv2D, Dense, Flatten, Dropout\n",
        "\n",
        "model = Sequential()\n",
        "model.add(Conv2D(filters=32,kernel_size=3, padding = 'same', activation='relu',input_shape = (224, 224, 3)))\n",
        "model.add(Conv2D(filters=32, kernel_size=3, padding = 'same', activation = 'relu'))\n",
        "model.add(MaxPooling2D(pool_size=(2,2)))\n",
        "model.add(Dropout(0.2))\n",
        "#model.add(Dropout(0.25))\n",
        "model.add(Conv2D(filters=64,kernel_size=3, padding = 'same', activation='relu'))\n",
        "model.add(Conv2D(filters=64, kernel_size=3, padding = 'same', activation = 'relu'))\n",
        "model.add(MaxPooling2D(pool_size=(2,2)))\n",
        "model.add(Dropout(0.2))\n",
        "#model.add(Dropout(0.25))\n",
        "\n",
        "model.add(Conv2D(filters=128,kernel_size=3, padding = 'same', activation='relu'))\n",
        "model.add(Conv2D(filters=128, kernel_size=3, padding = 'same', activation = 'relu'))\n",
        "model.add(MaxPooling2D(pool_size=(2,2)))\n",
        "model.add(Dropout(0.2))\n",
        "# model.add(Dropout(0.25))\n",
        "\n",
        "model.add(Conv2D(filters=256,kernel_size=3, padding = 'same', activation='relu'))\n",
        "model.add(Conv2D(filters=256, kernel_size=3, padding = 'same', activation = 'relu'))\n",
        "model.add(MaxPooling2D(pool_size=(2,2)))\n",
        "model.add(Dropout(0.2))\n",
        "# model.add(Dropout(0.25))\n",
        "\n",
        "model.add(Conv2D(filters=256,kernel_size=3, padding = 'same', activation='relu'))\n",
        "model.add(Conv2D(filters=256, kernel_size=3, padding = 'same', activation = 'relu'))\n",
        "model.add(MaxPooling2D(pool_size=(2,2)))\n",
        "model.add(Dropout(0.2))\n",
        "# model.add(Dropout(0.25))\n",
        "\n",
        "\n",
        "\n",
        "model.add(Flatten())\n",
        "model.add(Dense(512, activation=\"relu\"))\n",
        "model.add(Dropout(0.4))\n",
        "# model.add(Dropout(0.5))\n",
        "model.add(Dense(12, activation='softmax'))\n",
        "model.summary()"
      ],
      "metadata": {
        "colab": {
          "base_uri": "https://localhost:8080/"
        },
        "id": "TI7b4QakQCBb",
        "outputId": "7d189d4a-91d7-4bc2-989a-8e1e1908ed1c"
      },
      "execution_count": 16,
      "outputs": [
        {
          "output_type": "stream",
          "name": "stdout",
          "text": [
            "Model: \"sequential_2\"\n",
            "_________________________________________________________________\n",
            " Layer (type)                Output Shape              Param #   \n",
            "=================================================================\n",
            " conv2d_10 (Conv2D)          (None, 224, 224, 32)      896       \n",
            "                                                                 \n",
            " conv2d_11 (Conv2D)          (None, 224, 224, 32)      9248      \n",
            "                                                                 \n",
            " max_pooling2d_5 (MaxPooling  (None, 112, 112, 32)     0         \n",
            " 2D)                                                             \n",
            "                                                                 \n",
            " dropout_6 (Dropout)         (None, 112, 112, 32)      0         \n",
            "                                                                 \n",
            " conv2d_12 (Conv2D)          (None, 112, 112, 64)      18496     \n",
            "                                                                 \n",
            " conv2d_13 (Conv2D)          (None, 112, 112, 64)      36928     \n",
            "                                                                 \n",
            " max_pooling2d_6 (MaxPooling  (None, 56, 56, 64)       0         \n",
            " 2D)                                                             \n",
            "                                                                 \n",
            " dropout_7 (Dropout)         (None, 56, 56, 64)        0         \n",
            "                                                                 \n",
            " conv2d_14 (Conv2D)          (None, 56, 56, 128)       73856     \n",
            "                                                                 \n",
            " conv2d_15 (Conv2D)          (None, 56, 56, 128)       147584    \n",
            "                                                                 \n",
            " max_pooling2d_7 (MaxPooling  (None, 28, 28, 128)      0         \n",
            " 2D)                                                             \n",
            "                                                                 \n",
            " dropout_8 (Dropout)         (None, 28, 28, 128)       0         \n",
            "                                                                 \n",
            " conv2d_16 (Conv2D)          (None, 28, 28, 256)       295168    \n",
            "                                                                 \n",
            " conv2d_17 (Conv2D)          (None, 28, 28, 256)       590080    \n",
            "                                                                 \n",
            " max_pooling2d_8 (MaxPooling  (None, 14, 14, 256)      0         \n",
            " 2D)                                                             \n",
            "                                                                 \n",
            " dropout_9 (Dropout)         (None, 14, 14, 256)       0         \n",
            "                                                                 \n",
            " conv2d_18 (Conv2D)          (None, 14, 14, 256)       590080    \n",
            "                                                                 \n",
            " conv2d_19 (Conv2D)          (None, 14, 14, 256)       590080    \n",
            "                                                                 \n",
            " max_pooling2d_9 (MaxPooling  (None, 7, 7, 256)        0         \n",
            " 2D)                                                             \n",
            "                                                                 \n",
            " dropout_10 (Dropout)        (None, 7, 7, 256)         0         \n",
            "                                                                 \n",
            " flatten_1 (Flatten)         (None, 12544)             0         \n",
            "                                                                 \n",
            " dense_2 (Dense)             (None, 512)               6423040   \n",
            "                                                                 \n",
            " dropout_11 (Dropout)        (None, 512)               0         \n",
            "                                                                 \n",
            " dense_3 (Dense)             (None, 12)                6156      \n",
            "                                                                 \n",
            "=================================================================\n",
            "Total params: 8,781,612\n",
            "Trainable params: 8,781,612\n",
            "Non-trainable params: 0\n",
            "_________________________________________________________________\n"
          ]
        }
      ]
    },
    {
      "cell_type": "code",
      "source": [
        "model.compile(optimizer='adam', loss='categorical_crossentropy', metrics=['accuracy'])"
      ],
      "metadata": {
        "id": "vPyISJuUQE1h"
      },
      "execution_count": 17,
      "outputs": []
    },
    {
      "cell_type": "code",
      "source": [
        "from tensorflow.keras.callbacks import EarlyStopping\n",
        "early_stopping_callback = EarlyStopping(monitor = 'val_loss', patience = 10, mode = 'min', restore_best_weights = True)\n",
        "history = model.fit(training,validation_data=validing,epochs=100,shuffle=True,callbacks=early_stopping_callback)"
      ],
      "metadata": {
        "colab": {
          "base_uri": "https://localhost:8080/"
        },
        "id": "vQ2EsQW0QINH",
        "outputId": "99cdadd5-892f-4d88-9723-f66bd705cbf7"
      },
      "execution_count": null,
      "outputs": [
        {
          "output_type": "stream",
          "name": "stdout",
          "text": [
            "Epoch 1/100\n",
            "643/643 [==============================] - 218s 340ms/step - loss: 0.9753 - accuracy: 0.6502 - val_loss: 0.9234 - val_accuracy: 0.6348\n",
            "Epoch 2/100\n",
            "643/643 [==============================] - 218s 339ms/step - loss: 0.6676 - accuracy: 0.7618 - val_loss: 0.7617 - val_accuracy: 0.7123\n",
            "Epoch 3/100\n",
            "643/643 [==============================] - 220s 342ms/step - loss: 0.5054 - accuracy: 0.8156 - val_loss: 0.7001 - val_accuracy: 0.7148\n",
            "Epoch 4/100\n",
            "643/643 [==============================] - 219s 341ms/step - loss: 0.4106 - accuracy: 0.8572 - val_loss: 0.6229 - val_accuracy: 0.7575\n",
            "Epoch 5/100\n",
            "643/643 [==============================] - 219s 340ms/step - loss: 0.3870 - accuracy: 0.8639 - val_loss: 0.7012 - val_accuracy: 0.7423\n",
            "Epoch 6/100\n",
            "643/643 [==============================] - 232s 360ms/step - loss: 0.3572 - accuracy: 0.8718 - val_loss: 0.6039 - val_accuracy: 0.7718\n",
            "Epoch 7/100\n",
            "643/643 [==============================] - 219s 341ms/step - loss: 0.3219 - accuracy: 0.8818 - val_loss: 0.7342 - val_accuracy: 0.7532\n",
            "Epoch 8/100\n",
            "643/643 [==============================] - 231s 359ms/step - loss: 0.3157 - accuracy: 0.8868 - val_loss: 0.7263 - val_accuracy: 0.7641\n",
            "Epoch 9/100\n",
            "643/643 [==============================] - 217s 338ms/step - loss: 0.2960 - accuracy: 0.8963 - val_loss: 0.5521 - val_accuracy: 0.7973\n",
            "Epoch 10/100\n",
            "643/643 [==============================] - 217s 338ms/step - loss: 0.3063 - accuracy: 0.8927 - val_loss: 0.5131 - val_accuracy: 0.8055\n",
            "Epoch 11/100\n",
            "643/643 [==============================] - 240s 373ms/step - loss: 0.2876 - accuracy: 0.8993 - val_loss: 0.5548 - val_accuracy: 0.7945\n",
            "Epoch 12/100\n",
            "643/643 [==============================] - 219s 341ms/step - loss: 0.2711 - accuracy: 0.9036 - val_loss: 0.6171 - val_accuracy: 0.8030\n",
            "Epoch 13/100\n",
            "643/643 [==============================] - 218s 340ms/step - loss: 0.2476 - accuracy: 0.9111 - val_loss: 0.5133 - val_accuracy: 0.8018\n",
            "Epoch 14/100\n",
            "643/643 [==============================] - 219s 340ms/step - loss: 0.2606 - accuracy: 0.9107 - val_loss: 0.4467 - val_accuracy: 0.8182\n",
            "Epoch 15/100\n",
            "643/643 [==============================] - 220s 343ms/step - loss: 0.2509 - accuracy: 0.9097 - val_loss: 0.5884 - val_accuracy: 0.7859\n",
            "Epoch 16/100\n",
            "643/643 [==============================] - 219s 341ms/step - loss: 0.2441 - accuracy: 0.9143 - val_loss: 0.5605 - val_accuracy: 0.8039\n",
            "Epoch 17/100\n",
            "643/643 [==============================] - 222s 345ms/step - loss: 0.2375 - accuracy: 0.9141 - val_loss: 0.4658 - val_accuracy: 0.8414\n",
            "Epoch 18/100\n",
            "643/643 [==============================] - 223s 346ms/step - loss: 0.2580 - accuracy: 0.9091 - val_loss: 0.5537 - val_accuracy: 0.8130\n",
            "Epoch 19/100\n",
            "643/643 [==============================] - 220s 342ms/step - loss: 0.2361 - accuracy: 0.9138 - val_loss: 0.5518 - val_accuracy: 0.8068\n",
            "Epoch 20/100\n",
            "643/643 [==============================] - 222s 345ms/step - loss: 0.2199 - accuracy: 0.9215 - val_loss: 0.5760 - val_accuracy: 0.8484\n",
            "Epoch 21/100\n",
            "643/643 [==============================] - 243s 378ms/step - loss: 0.2360 - accuracy: 0.9202 - val_loss: 0.4205 - val_accuracy: 0.8555\n",
            "Epoch 22/100\n",
            "643/643 [==============================] - 222s 346ms/step - loss: 0.2344 - accuracy: 0.9219 - val_loss: 0.6299 - val_accuracy: 0.7739\n",
            "Epoch 23/100\n",
            "643/643 [==============================] - 219s 340ms/step - loss: 0.2382 - accuracy: 0.9176 - val_loss: 0.4871 - val_accuracy: 0.8480\n",
            "Epoch 24/100\n",
            "643/643 [==============================] - 219s 341ms/step - loss: 0.1903 - accuracy: 0.9352 - val_loss: 0.4212 - val_accuracy: 0.8589\n",
            "Epoch 25/100\n",
            "643/643 [==============================] - 222s 346ms/step - loss: 0.3153 - accuracy: 0.9015 - val_loss: 0.5674 - val_accuracy: 0.7755\n",
            "Epoch 26/100\n",
            "643/643 [==============================] - 221s 344ms/step - loss: 0.2297 - accuracy: 0.9190 - val_loss: 0.5565 - val_accuracy: 0.8243\n",
            "Epoch 27/100\n",
            "643/643 [==============================] - 220s 343ms/step - loss: 0.2182 - accuracy: 0.9259 - val_loss: 0.3542 - val_accuracy: 0.8770\n",
            "Epoch 28/100\n",
            "643/643 [==============================] - 240s 373ms/step - loss: 0.2144 - accuracy: 0.9259 - val_loss: 0.3006 - val_accuracy: 0.8850\n",
            "Epoch 29/100\n",
            "643/643 [==============================] - 242s 376ms/step - loss: 0.2380 - accuracy: 0.9202 - val_loss: 0.4002 - val_accuracy: 0.8661\n",
            "Epoch 30/100\n",
            "643/643 [==============================] - 242s 376ms/step - loss: 0.2070 - accuracy: 0.9270 - val_loss: 0.5231 - val_accuracy: 0.8607\n",
            "Epoch 31/100\n",
            "643/643 [==============================] - 221s 343ms/step - loss: 0.2077 - accuracy: 0.9264 - val_loss: 0.4187 - val_accuracy: 0.8582\n",
            "Epoch 32/100\n",
            "643/643 [==============================] - 220s 343ms/step - loss: 0.1915 - accuracy: 0.9326 - val_loss: 0.4278 - val_accuracy: 0.8700\n",
            "Epoch 33/100\n",
            "643/643 [==============================] - 220s 343ms/step - loss: 0.2072 - accuracy: 0.9298 - val_loss: 0.3795 - val_accuracy: 0.8602\n",
            "Epoch 34/100\n",
            "643/643 [==============================] - 219s 341ms/step - loss: 0.1839 - accuracy: 0.9364 - val_loss: 0.4045 - val_accuracy: 0.8568\n",
            "Epoch 35/100\n",
            "643/643 [==============================] - 220s 342ms/step - loss: 0.2191 - accuracy: 0.9268 - val_loss: 0.4404 - val_accuracy: 0.8489\n",
            "Epoch 36/100\n",
            "643/643 [==============================] - 242s 376ms/step - loss: 0.2149 - accuracy: 0.9297 - val_loss: 0.4813 - val_accuracy: 0.8155\n",
            "Epoch 37/100\n",
            "643/643 [==============================] - 216s 336ms/step - loss: 0.1924 - accuracy: 0.9334 - val_loss: 0.2894 - val_accuracy: 0.8880\n",
            "Epoch 38/100\n",
            "643/643 [==============================] - 218s 339ms/step - loss: 0.1718 - accuracy: 0.9411 - val_loss: 0.3200 - val_accuracy: 0.8852\n",
            "Epoch 39/100\n",
            "643/643 [==============================] - 221s 344ms/step - loss: 0.1980 - accuracy: 0.9288 - val_loss: 0.5084 - val_accuracy: 0.8566\n",
            "Epoch 40/100\n",
            "643/643 [==============================] - 218s 339ms/step - loss: 0.2026 - accuracy: 0.9312 - val_loss: 0.5267 - val_accuracy: 0.8450\n",
            "Epoch 41/100\n",
            "643/643 [==============================] - 218s 339ms/step - loss: 0.1847 - accuracy: 0.9381 - val_loss: 0.5113 - val_accuracy: 0.8741\n",
            "Epoch 42/100\n",
            "643/643 [==============================] - 217s 338ms/step - loss: 0.1720 - accuracy: 0.9422 - val_loss: 0.3623 - val_accuracy: 0.8605\n",
            "Epoch 43/100\n",
            "643/643 [==============================] - 217s 338ms/step - loss: 0.2410 - accuracy: 0.9189 - val_loss: 0.4479 - val_accuracy: 0.8609\n",
            "Epoch 44/100\n",
            "643/643 [==============================] - 217s 337ms/step - loss: 0.1876 - accuracy: 0.9360 - val_loss: 0.4596 - val_accuracy: 0.8618\n",
            "Epoch 45/100\n",
            "643/643 [==============================] - 219s 341ms/step - loss: 0.1773 - accuracy: 0.9398 - val_loss: 0.3844 - val_accuracy: 0.8798\n",
            "Epoch 46/100\n",
            "543/643 [========================>.....] - ETA: 24s - loss: 0.1928 - accuracy: 0.9360"
          ]
        }
      ]
    },
    {
      "cell_type": "code",
      "execution_count": null,
      "metadata": {
        "id": "T1ZQ5_HzFxnK"
      },
      "outputs": [],
      "source": [
        "model.save('cnn_food_model.h5')"
      ]
    },
    {
      "cell_type": "code",
      "source": [
        "accuracy_values = history.history['accuracy']\n",
        "val_accuracy_values = history.history['val_accuracy']\n",
        "loss_values = history.history['loss']\n",
        "val_loss_values = history.history['val_loss']\n",
        "\n",
        "# Plot the graph\n",
        "plt.figure(figsize=(10, 5))  # adjust the figure size as needed\n",
        "\n",
        "# Plot accuracy values\n",
        "plt.subplot(1, 2, 1)  # create a subplot for accuracy\n",
        "plt.plot(accuracy_values, label='Train Accuracy')\n",
        "plt.plot(val_accuracy_values, label='Validation Accuracy')\n",
        "plt.title('Accuracy')\n",
        "plt.xlabel('Epoch')\n",
        "plt.ylabel('Accuracy')\n",
        "plt.legend()\n",
        "\n",
        "# Plot loss values\n",
        "plt.subplot(1, 2, 2)  # create a subplot for loss\n",
        "plt.plot(loss_values, label='Train Loss')\n",
        "plt.plot(val_loss_values, label='Validation Loss')\n",
        "plt.title('Loss')\n",
        "plt.xlabel('Epoch')\n",
        "plt.ylabel('Loss')\n",
        "plt.legend()\n",
        "\n",
        "plt.tight_layout()  # adjust the spacing between subplots if needed\n",
        "plt.show()"
      ],
      "metadata": {
        "id": "j1NgxvILLMzS"
      },
      "execution_count": null,
      "outputs": []
    },
    {
      "cell_type": "code",
      "source": [
        "model.evaluate(validing, verbose=1)"
      ],
      "metadata": {
        "colab": {
          "base_uri": "https://localhost:8080/"
        },
        "id": "QZJxlDPiUZ-O",
        "outputId": "18f8c47e-b6c2-41b9-e5e9-d8f8ad92d788"
      },
      "execution_count": null,
      "outputs": [
        {
          "output_type": "stream",
          "name": "stdout",
          "text": [
            "341/341 [==============================] - 65s 190ms/step - loss: 2.3252 - accuracy: 0.7353\n"
          ]
        },
        {
          "output_type": "execute_result",
          "data": {
            "text/plain": [
              "[2.3252334594726562, 0.735253632068634]"
            ]
          },
          "metadata": {},
          "execution_count": 20
        }
      ]
    }
  ],
  "metadata": {
    "accelerator": "GPU",
    "colab": {
      "provenance": []
    },
    "gpuClass": "standard",
    "kernelspec": {
      "display_name": "Python 3",
      "name": "python3"
    },
    "language_info": {
      "name": "python"
    }
  },
  "nbformat": 4,
  "nbformat_minor": 0
}